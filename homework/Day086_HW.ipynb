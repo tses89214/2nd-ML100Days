{
 "cells": [
  {
   "cell_type": "markdown",
   "metadata": {},
   "source": [
    "## Work\n",
    "1. 試比較 save_best_only 與否的差異\n",
    "2. 請僅存入將 save_weights_only 設定為 True, 並嘗試 reset ipynb 並將模型與權重重新建回並預測 x_test"
   ]
  },
  {
   "cell_type": "code",
   "execution_count": 4,
   "metadata": {},
   "outputs": [],
   "source": [
    "import os\n",
    "import keras\n",
    "\n",
    "# Disable GPU\n",
    "os.environ[\"CUDA_VISIBLE_DEVICES\"] = \"0\""
   ]
  },
  {
   "cell_type": "code",
   "execution_count": 5,
   "metadata": {},
   "outputs": [],
   "source": [
    "train, test = keras.datasets.cifar10.load_data()"
   ]
  },
  {
   "cell_type": "code",
   "execution_count": 6,
   "metadata": {},
   "outputs": [],
   "source": [
    "## 資料前處理\n",
    "def preproc_x(x, flatten=True):\n",
    "    x = x / 255.\n",
    "    if flatten:\n",
    "        x = x.reshape((len(x), -1))\n",
    "    return x\n",
    "\n",
    "def preproc_y(y, num_classes=10):\n",
    "    if y.shape[-1] == 1:\n",
    "        y = keras.utils.to_categorical(y, num_classes)\n",
    "    return y    "
   ]
  },
  {
   "cell_type": "code",
   "execution_count": 7,
   "metadata": {},
   "outputs": [],
   "source": [
    "x_train, y_train = train\n",
    "x_test, y_test = test\n",
    "\n",
    "# Preproc the inputs\n",
    "x_train = preproc_x(x_train)\n",
    "x_test = preproc_x(x_test)\n",
    "\n",
    "# Preprc the outputs\n",
    "y_train = preproc_y(y_train)\n",
    "y_test = preproc_y(y_test)"
   ]
  },
  {
   "cell_type": "code",
   "execution_count": 8,
   "metadata": {},
   "outputs": [],
   "source": [
    "from keras.layers import BatchNormalization\n",
    "def build_mlp(input_shape, output_units=10, num_neurons=[512, 256, 128]):\n",
    "    input_layer = keras.layers.Input(input_shape)\n",
    "    \n",
    "    for i, n_units in enumerate(num_neurons):\n",
    "        if i == 0:\n",
    "            x = keras.layers.Dense(units=n_units, \n",
    "                                   activation=\"relu\", \n",
    "                                   name=\"hidden_layer\"+str(i+1))(input_layer)\n",
    "            x = BatchNormalization()(x)\n",
    "        else:\n",
    "            x = keras.layers.Dense(units=n_units, \n",
    "                                   activation=\"relu\", \n",
    "                                   name=\"hidden_layer\"+str(i+1))(x)\n",
    "            x = BatchNormalization()(x)\n",
    "    \n",
    "    out = keras.layers.Dense(units=output_units, activation=\"softmax\", name=\"output\")(x)\n",
    "    \n",
    "    model = keras.models.Model(inputs=[input_layer], outputs=[out])\n",
    "    return model"
   ]
  },
  {
   "cell_type": "code",
   "execution_count": 9,
   "metadata": {},
   "outputs": [],
   "source": [
    "## 超參數設定\n",
    "LEARNING_RATE = 1e-3\n",
    "EPOCHS = 50\n",
    "BATCH_SIZE = 1024\n",
    "MOMENTUM = 0.95"
   ]
  },
  {
   "cell_type": "code",
   "execution_count": 12,
   "metadata": {},
   "outputs": [
    {
     "name": "stdout",
     "output_type": "stream",
     "text": [
      "_________________________________________________________________\n",
      "Layer (type)                 Output Shape              Param #   \n",
      "=================================================================\n",
      "input_2 (InputLayer)         (None, 3072)              0         \n",
      "_________________________________________________________________\n",
      "hidden_layer1 (Dense)        (None, 512)               1573376   \n",
      "_________________________________________________________________\n",
      "batch_normalization_4 (Batch (None, 512)               2048      \n",
      "_________________________________________________________________\n",
      "hidden_layer2 (Dense)        (None, 256)               131328    \n",
      "_________________________________________________________________\n",
      "batch_normalization_5 (Batch (None, 256)               1024      \n",
      "_________________________________________________________________\n",
      "hidden_layer3 (Dense)        (None, 128)               32896     \n",
      "_________________________________________________________________\n",
      "batch_normalization_6 (Batch (None, 128)               512       \n",
      "_________________________________________________________________\n",
      "output (Dense)               (None, 10)                1290      \n",
      "=================================================================\n",
      "Total params: 1,742,474\n",
      "Trainable params: 1,740,682\n",
      "Non-trainable params: 1,792\n",
      "_________________________________________________________________\n",
      "Train on 50000 samples, validate on 10000 samples\n",
      "Epoch 1/50\n",
      "50000/50000 [==============================] - 4s 80us/step - loss: 2.2320 - acc: 0.2666 - val_loss: 2.1019 - val_acc: 0.3265\n",
      "Epoch 2/50\n",
      "50000/50000 [==============================] - 3s 57us/step - loss: 1.7443 - acc: 0.3910 - val_loss: 1.7970 - val_acc: 0.3856\n",
      "Epoch 3/50\n",
      "50000/50000 [==============================] - 3s 57us/step - loss: 1.6206 - acc: 0.4347 - val_loss: 1.7101 - val_acc: 0.4023\n",
      "Epoch 4/50\n",
      "50000/50000 [==============================] - 3s 57us/step - loss: 1.5469 - acc: 0.4597 - val_loss: 1.6475 - val_acc: 0.4247\n",
      "Epoch 5/50\n",
      "50000/50000 [==============================] - 3s 57us/step - loss: 1.4934 - acc: 0.4799 - val_loss: 1.6004 - val_acc: 0.4375\n",
      "Epoch 6/50\n",
      "50000/50000 [==============================] - 3s 59us/step - loss: 1.4485 - acc: 0.4955 - val_loss: 1.5746 - val_acc: 0.4457\n",
      "Epoch 7/50\n",
      "50000/50000 [==============================] - 3s 59us/step - loss: 1.4082 - acc: 0.5100 - val_loss: 1.5416 - val_acc: 0.4543\n",
      "Epoch 8/50\n",
      "50000/50000 [==============================] - 3s 70us/step - loss: 1.3739 - acc: 0.5218 - val_loss: 1.5246 - val_acc: 0.4668\n",
      "Epoch 9/50\n",
      "50000/50000 [==============================] - 3s 54us/step - loss: 1.3413 - acc: 0.5329 - val_loss: 1.5164 - val_acc: 0.4626\n",
      "Epoch 10/50\n",
      "50000/50000 [==============================] - 3s 54us/step - loss: 1.3101 - acc: 0.5439 - val_loss: 1.5003 - val_acc: 0.4696\n",
      "Epoch 11/50\n",
      "50000/50000 [==============================] - 3s 64us/step - loss: 1.2827 - acc: 0.5531 - val_loss: 1.4858 - val_acc: 0.4763\n",
      "Epoch 12/50\n",
      "50000/50000 [==============================] - 3s 54us/step - loss: 1.2549 - acc: 0.5641 - val_loss: 1.4764 - val_acc: 0.4805\n",
      "Epoch 13/50\n",
      "50000/50000 [==============================] - 2s 49us/step - loss: 1.2290 - acc: 0.5722 - val_loss: 1.4795 - val_acc: 0.4739\n",
      "Epoch 14/50\n",
      "50000/50000 [==============================] - 3s 51us/step - loss: 1.2046 - acc: 0.5823 - val_loss: 1.4873 - val_acc: 0.4786\n",
      "Epoch 15/50\n",
      "50000/50000 [==============================] - 3s 51us/step - loss: 1.1799 - acc: 0.5916 - val_loss: 1.4743 - val_acc: 0.4842\n",
      "Epoch 16/50\n",
      "50000/50000 [==============================] - 3s 50us/step - loss: 1.1569 - acc: 0.6000 - val_loss: 1.4650 - val_acc: 0.4916\n",
      "Epoch 17/50\n",
      "50000/50000 [==============================] - 3s 50us/step - loss: 1.1338 - acc: 0.6112 - val_loss: 1.4619 - val_acc: 0.4878\n",
      "Epoch 18/50\n",
      "50000/50000 [==============================] - 3s 51us/step - loss: 1.1101 - acc: 0.6181 - val_loss: 1.4453 - val_acc: 0.4925\n",
      "Epoch 19/50\n",
      "50000/50000 [==============================] - 3s 51us/step - loss: 1.0892 - acc: 0.6271 - val_loss: 1.4555 - val_acc: 0.4897\n",
      "Epoch 20/50\n",
      "50000/50000 [==============================] - 3s 51us/step - loss: 1.0694 - acc: 0.6353 - val_loss: 1.4539 - val_acc: 0.4909\n",
      "Epoch 21/50\n",
      "50000/50000 [==============================] - 3s 50us/step - loss: 1.0471 - acc: 0.6433 - val_loss: 1.4522 - val_acc: 0.4922\n",
      "Epoch 22/50\n",
      "50000/50000 [==============================] - 3s 51us/step - loss: 1.0248 - acc: 0.6525 - val_loss: 1.4621 - val_acc: 0.4941\n",
      "Epoch 23/50\n",
      "50000/50000 [==============================] - 3s 53us/step - loss: 1.0035 - acc: 0.6630 - val_loss: 1.4789 - val_acc: 0.4878\n",
      "Epoch 24/50\n",
      "50000/50000 [==============================] - 3s 51us/step - loss: 0.9833 - acc: 0.6690 - val_loss: 1.4615 - val_acc: 0.4967\n",
      "Epoch 25/50\n",
      "50000/50000 [==============================] - 2s 50us/step - loss: 0.9623 - acc: 0.6761 - val_loss: 1.4668 - val_acc: 0.4944\n",
      "Epoch 26/50\n",
      "50000/50000 [==============================] - 2s 50us/step - loss: 0.9441 - acc: 0.6825 - val_loss: 1.4594 - val_acc: 0.5002\n",
      "Epoch 27/50\n",
      "50000/50000 [==============================] - 3s 50us/step - loss: 0.9218 - acc: 0.6922 - val_loss: 1.4655 - val_acc: 0.4982\n",
      "Epoch 28/50\n",
      "50000/50000 [==============================] - 3s 52us/step - loss: 0.9004 - acc: 0.7013 - val_loss: 1.4625 - val_acc: 0.4975\n",
      "Epoch 29/50\n",
      "50000/50000 [==============================] - 2s 49us/step - loss: 0.8817 - acc: 0.7075 - val_loss: 1.4697 - val_acc: 0.5054\n",
      "Epoch 30/50\n",
      "50000/50000 [==============================] - 2s 50us/step - loss: 0.8622 - acc: 0.7155 - val_loss: 1.4830 - val_acc: 0.4994\n",
      "Epoch 31/50\n",
      "50000/50000 [==============================] - 2s 49us/step - loss: 0.8437 - acc: 0.7228 - val_loss: 1.4770 - val_acc: 0.4986\n",
      "Epoch 32/50\n",
      "50000/50000 [==============================] - 3s 50us/step - loss: 0.8223 - acc: 0.7314 - val_loss: 1.4855 - val_acc: 0.4975\n",
      "Epoch 33/50\n",
      "50000/50000 [==============================] - 2s 50us/step - loss: 0.8053 - acc: 0.7386 - val_loss: 1.4933 - val_acc: 0.5013\n",
      "Epoch 34/50\n",
      "50000/50000 [==============================] - 2s 50us/step - loss: 0.7827 - acc: 0.7471 - val_loss: 1.4963 - val_acc: 0.5005\n",
      "Epoch 35/50\n",
      "50000/50000 [==============================] - 2s 49us/step - loss: 0.7636 - acc: 0.7545 - val_loss: 1.5090 - val_acc: 0.4944\n",
      "Epoch 36/50\n",
      "50000/50000 [==============================] - 2s 50us/step - loss: 0.7434 - acc: 0.7624 - val_loss: 1.5120 - val_acc: 0.5038\n",
      "Epoch 37/50\n",
      "50000/50000 [==============================] - 2s 50us/step - loss: 0.7261 - acc: 0.7691 - val_loss: 1.5336 - val_acc: 0.4912\n",
      "Epoch 38/50\n",
      "50000/50000 [==============================] - 2s 49us/step - loss: 0.7070 - acc: 0.7762 - val_loss: 1.5263 - val_acc: 0.5006\n",
      "Epoch 39/50\n",
      "50000/50000 [==============================] - 2s 50us/step - loss: 0.6882 - acc: 0.7843 - val_loss: 1.5392 - val_acc: 0.4951\n",
      "Epoch 40/50\n",
      "50000/50000 [==============================] - 2s 50us/step - loss: 0.6701 - acc: 0.7909 - val_loss: 1.5783 - val_acc: 0.4910\n",
      "Epoch 41/50\n",
      "50000/50000 [==============================] - 3s 50us/step - loss: 0.6526 - acc: 0.7986 - val_loss: 1.5733 - val_acc: 0.4929\n",
      "Epoch 42/50\n",
      "50000/50000 [==============================] - 3s 51us/step - loss: 0.6335 - acc: 0.8062 - val_loss: 1.5806 - val_acc: 0.4949\n",
      "Epoch 43/50\n",
      "50000/50000 [==============================] - 3s 53us/step - loss: 0.6158 - acc: 0.8129 - val_loss: 1.5868 - val_acc: 0.4948\n",
      "Epoch 44/50\n",
      "50000/50000 [==============================] - 3s 52us/step - loss: 0.5973 - acc: 0.8213 - val_loss: 1.6062 - val_acc: 0.4958\n",
      "Epoch 45/50\n",
      "50000/50000 [==============================] - 2s 50us/step - loss: 0.5802 - acc: 0.8273 - val_loss: 1.6026 - val_acc: 0.4958\n",
      "Epoch 46/50\n",
      "50000/50000 [==============================] - 2s 50us/step - loss: 0.5627 - acc: 0.8354 - val_loss: 1.6191 - val_acc: 0.4916\n",
      "Epoch 47/50\n",
      "50000/50000 [==============================] - 3s 53us/step - loss: 0.5463 - acc: 0.8420 - val_loss: 1.6324 - val_acc: 0.4953\n",
      "Epoch 48/50\n",
      "50000/50000 [==============================] - 3s 51us/step - loss: 0.5287 - acc: 0.8479 - val_loss: 1.6403 - val_acc: 0.4915\n",
      "Epoch 49/50\n",
      "50000/50000 [==============================] - 3s 53us/step - loss: 0.5112 - acc: 0.8550 - val_loss: 1.6908 - val_acc: 0.4902\n"
     ]
    },
    {
     "name": "stdout",
     "output_type": "stream",
     "text": [
      "Epoch 50/50\n",
      "50000/50000 [==============================] - 3s 52us/step - loss: 0.4964 - acc: 0.8593 - val_loss: 1.6693 - val_acc: 0.4975\n"
     ]
    }
   ],
   "source": [
    "# 載入 Callbacks\n",
    "\"\"\"Code Here\n",
    "設定 callbacks: model checkpoint\n",
    "\"\"\"\n",
    "from keras.callbacks import ModelCheckpoint\n",
    "\n",
    "\n",
    "model_ckpt = ModelCheckpoint(filepath=\"./temp.h5\",\n",
    "                             monitor = 'val_loss',\n",
    "                             save_best_only=True,\n",
    "                             #save_weights_only=True\n",
    ")\n",
    "\n",
    "results = {}\n",
    "\"\"\"Code Here\n",
    "撰寫你的訓練流程並將結果用 dictionary 紀錄\n",
    "\"\"\"\n",
    "\n",
    "model = build_mlp(input_shape=x_train.shape[1:])\n",
    "model.summary()\n",
    "optimizer = keras.optimizers.SGD(lr=LEARNING_RATE, nesterov=True, momentum=MOMENTUM)\n",
    "model.compile(loss=\"categorical_crossentropy\", metrics=[\"accuracy\"], optimizer=optimizer)\n",
    "\n",
    "model.fit(x_train, y_train, \n",
    "          epochs=EPOCHS, \n",
    "          batch_size=BATCH_SIZE, \n",
    "          validation_data=(x_test, y_test), \n",
    "          shuffle=True,\n",
    "          callbacks=[model_ckpt]\n",
    "         )\n",
    "\n",
    "# Collect results\n",
    "train_loss = model.history.history[\"loss\"]\n",
    "valid_loss = model.history.history[\"val_loss\"]\n",
    "train_acc = model.history.history[\"acc\"]\n",
    "valid_acc = model.history.history[\"val_acc\"]"
   ]
  },
  {
   "cell_type": "code",
   "execution_count": 14,
   "metadata": {
    "scrolled": true
   },
   "outputs": [
    {
     "name": "stdout",
     "output_type": "stream",
     "text": [
      "10000/10000 [==============================] - 2s 168us/step\n"
     ]
    }
   ],
   "source": [
    "# Load back\n",
    "model = keras.models.load_model(\"./temp.h5\")\n",
    "loss_loadback, acc_loadback = model.evaluate(x_test, y_test)"
   ]
  },
  {
   "cell_type": "code",
   "execution_count": 15,
   "metadata": {
    "scrolled": true
   },
   "outputs": [
    {
     "data": {
      "image/png": "[encoded data removed]",
      "text/plain": [
       "<Figure size 432x288 with 1 Axes>"
      ]
     },
     "metadata": {
      "needs_background": "light"
     },
     "output_type": "display_data"
    },
    {
     "data": {
      "image/png": "[encoded data removed]",
      "text/plain": [
       "<Figure size 432x288 with 1 Axes>"
      ]
     },
     "metadata": {
      "needs_background": "light"
     },
     "output_type": "display_data"
    }
   ],
   "source": [
    "import matplotlib.pyplot as plt\n",
    "%matplotlib inline\n",
    "\n",
    "plt.plot(range(len(train_loss)), train_loss, label=\"train loss\")\n",
    "plt.plot(range(len(valid_loss)), valid_loss, label=\"valid loss\")\n",
    "plt.hlines(y=loss_loadback, xmin=0, xmax=len(train_loss), colors='r', linestyles='--')\n",
    "plt.legend()\n",
    "plt.title(\"Loss\")\n",
    "plt.show()\n",
    "\n",
    "plt.plot(range(len(train_acc)), train_acc, label=\"train accuracy\")\n",
    "plt.plot(range(len(valid_acc)), valid_acc, label=\"valid accuracy\")\n",
    "plt.hlines(y=acc_loadback, xmin=0, xmax=len(train_loss), colors='r', linestyles='--')\n",
    "plt.legend()\n",
    "plt.title(\"Accuracy\")\n",
    "plt.show()"
   ]
  },
  {
   "cell_type": "code",
   "execution_count": null,
   "metadata": {},
   "outputs": [],
   "source": []
  }
 ],
 "metadata": {
  "kernelspec": {
   "display_name": "Python 3",
   "language": "python",
   "name": "python3"
  },
  "language_info": {
   "codemirror_mode": {
    "name": "ipython",
    "version": 3
   },
   "file_extension": ".py",
   "mimetype": "text/x-python",
   "name": "python",
   "nbconvert_exporter": "python",
   "pygments_lexer": "ipython3",
   "version": "3.7.3"
  }
 },
 "nbformat": 4,
 "nbformat_minor": 2
}
