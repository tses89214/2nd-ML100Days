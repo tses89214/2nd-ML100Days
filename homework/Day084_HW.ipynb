{
 "cells": [
  {
   "cell_type": "markdown",
   "metadata": {},
   "source": [
    "## Work\n",
    "### 請結合前面的知識與程式碼，比較不同的 regularization 的組合對訓練的結果與影響：如 dropout, regularizers, batch-normalization 等"
   ]
  },
  {
   "cell_type": "code",
   "execution_count": 1,
   "metadata": {},
   "outputs": [
    {
     "name": "stderr",
     "output_type": "stream",
     "text": [
      "Using TensorFlow backend.\n"
     ]
    }
   ],
   "source": [
    "import os\n",
    "import keras\n",
    "import itertools\n",
    "# Disable GPU\n",
    "os.environ[\"CUDA_VISIBLE_DEVICES\"] = \"0\""
   ]
  },
  {
   "cell_type": "code",
   "execution_count": 2,
   "metadata": {},
   "outputs": [],
   "source": [
    "train, test = keras.datasets.cifar10.load_data()"
   ]
  },
  {
   "cell_type": "code",
   "execution_count": 3,
   "metadata": {},
   "outputs": [],
   "source": [
    "## 資料前處理\n",
    "def preproc_x(x, flatten=True):\n",
    "    x = x / 255.\n",
    "    if flatten:\n",
    "        x = x.reshape((len(x), -1))\n",
    "    return x\n",
    "\n",
    "def preproc_y(y, num_classes=10):\n",
    "    if y.shape[-1] == 1:\n",
    "        y = keras.utils.to_categorical(y, num_classes)\n",
    "    return y    "
   ]
  },
  {
   "cell_type": "code",
   "execution_count": 4,
   "metadata": {},
   "outputs": [],
   "source": [
    "x_train, y_train = train\n",
    "x_test, y_test = test\n",
    "\n",
    "# Preproc the inputs\n",
    "x_train = preproc_x(x_train)\n",
    "x_test = preproc_x(x_test)\n",
    "\n",
    "# Preprc the outputs\n",
    "y_train = preproc_y(y_train)\n",
    "y_test = preproc_y(y_test)"
   ]
  },
  {
   "cell_type": "code",
   "execution_count": 5,
   "metadata": {},
   "outputs": [],
   "source": [
    "from keras.layers import BatchNormalization\n",
    "from keras.layers import Dropout\n",
    "from keras.regularizers import l1,l2,l1_l2\n",
    "\n",
    "def build_mlp(input_shape,num_neurons=[512,256,128],output=10):\n",
    "    input_layer = keras.layers.Input(input_shape)\n",
    "    x = BatchNormalization()(input_layer)\n",
    "    for i,neurons in enumerate(num_neurons):\n",
    "        x = keras.layers.Dense(units=neurons,activation='relu',kernel_regularizer=l1(1e-4),name='hidden_layer_'+str(i+1))(x)\n",
    "        \n",
    "    x =Dropout(0.1)(x)    \n",
    "    out = keras.layers.Dense(units=output,activation='softmax',name='output_layer')(x)\n",
    "    \n",
    "    model = keras.models.Model(inputs=[input_layer],outputs=[out])\n",
    "            \n",
    "    \n",
    "    \"\"\"Code Here\n",
    "    建立你的神經網路\n",
    "    \"\"\"\n",
    "    return model"
   ]
  },
  {
   "cell_type": "code",
   "execution_count": 6,
   "metadata": {},
   "outputs": [],
   "source": [
    "\n",
    "\"\"\"Code Here\n",
    "設定超參數\n",
    "\"\"\"\n",
    "LEARNING_RATE = 1e-3\n",
    "EPOCHS = 50\n",
    "MOMENTUM = 0.95\n"
   ]
  },
  {
   "cell_type": "code",
   "execution_count": 9,
   "metadata": {
    "scrolled": true
   },
   "outputs": [
    {
     "name": "stdout",
     "output_type": "stream",
     "text": [
      "Train on 50000 samples, validate on 10000 samples\n",
      "Epoch 1/50\n",
      "50000/50000 [==============================] - 4s 80us/step - loss: 6.4588 - acc: 0.1399 - val_loss: 6.2386 - val_acc: 0.1926\n",
      "Epoch 2/50\n",
      "50000/50000 [==============================] - 3s 63us/step - loss: 6.1976 - acc: 0.2081 - val_loss: 6.1176 - val_acc: 0.2368\n",
      "Epoch 3/50\n",
      "50000/50000 [==============================] - 3s 64us/step - loss: 6.1090 - acc: 0.2398 - val_loss: 6.0498 - val_acc: 0.2614\n",
      "Epoch 4/50\n",
      "50000/50000 [==============================] - 3s 59us/step - loss: 6.0520 - acc: 0.2621 - val_loss: 6.0020 - val_acc: 0.2778\n",
      "Epoch 5/50\n",
      "50000/50000 [==============================] - 3s 59us/step - loss: 6.0100 - acc: 0.2761 - val_loss: 5.9643 - val_acc: 0.2922\n",
      "Epoch 6/50\n",
      "50000/50000 [==============================] - 3s 57us/step - loss: 5.9741 - acc: 0.2883 - val_loss: 5.9335 - val_acc: 0.3038\n",
      "Epoch 7/50\n",
      "50000/50000 [==============================] - 3s 60us/step - loss: 5.9447 - acc: 0.3016 - val_loss: 5.9071 - val_acc: 0.3155\n",
      "Epoch 8/50\n",
      "50000/50000 [==============================] - 3s 58us/step - loss: 5.9206 - acc: 0.3078 - val_loss: 5.8839 - val_acc: 0.3245\n",
      "Epoch 9/50\n",
      "50000/50000 [==============================] - 3s 57us/step - loss: 5.8968 - acc: 0.3171 - val_loss: 5.8632 - val_acc: 0.3317\n",
      "Epoch 10/50\n",
      "50000/50000 [==============================] - 3s 57us/step - loss: 5.8737 - acc: 0.3269 - val_loss: 5.8449 - val_acc: 0.3386\n",
      "Epoch 11/50\n",
      "50000/50000 [==============================] - 3s 58us/step - loss: 5.8555 - acc: 0.3314 - val_loss: 5.8278 - val_acc: 0.3433\n",
      "Epoch 12/50\n",
      "50000/50000 [==============================] - 3s 62us/step - loss: 5.8414 - acc: 0.3369 - val_loss: 5.8125 - val_acc: 0.3490\n",
      "Epoch 13/50\n",
      "50000/50000 [==============================] - 3s 61us/step - loss: 5.8266 - acc: 0.3421 - val_loss: 5.7983 - val_acc: 0.3557\n",
      "Epoch 14/50\n",
      "50000/50000 [==============================] - 4s 72us/step - loss: 5.8118 - acc: 0.3471 - val_loss: 5.7850 - val_acc: 0.3615\n",
      "Epoch 15/50\n",
      "50000/50000 [==============================] - 3s 65us/step - loss: 5.7984 - acc: 0.3521 - val_loss: 5.7727 - val_acc: 0.3639\n",
      "Epoch 16/50\n",
      "50000/50000 [==============================] - 3s 60us/step - loss: 5.7851 - acc: 0.3540 - val_loss: 5.7612 - val_acc: 0.3672\n",
      "Epoch 17/50\n",
      "50000/50000 [==============================] - 3s 67us/step - loss: 5.7737 - acc: 0.3598 - val_loss: 5.7502 - val_acc: 0.3706\n",
      "Epoch 18/50\n",
      "50000/50000 [==============================] - 4s 78us/step - loss: 5.7612 - acc: 0.3648 - val_loss: 5.7398 - val_acc: 0.3727\n",
      "Epoch 19/50\n",
      "50000/50000 [==============================] - 3s 60us/step - loss: 5.7507 - acc: 0.3669 - val_loss: 5.7297 - val_acc: 0.3762\n",
      "Epoch 20/50\n",
      "50000/50000 [==============================] - 3s 58us/step - loss: 5.7389 - acc: 0.3721 - val_loss: 5.7203 - val_acc: 0.3798\n",
      "Epoch 21/50\n",
      "50000/50000 [==============================] - 3s 57us/step - loss: 5.7292 - acc: 0.3753 - val_loss: 5.7112 - val_acc: 0.3830\n",
      "Epoch 22/50\n",
      "50000/50000 [==============================] - 3s 58us/step - loss: 5.7208 - acc: 0.3780 - val_loss: 5.7024 - val_acc: 0.3859\n",
      "Epoch 23/50\n",
      "50000/50000 [==============================] - 3s 58us/step - loss: 5.7096 - acc: 0.3798 - val_loss: 5.6940 - val_acc: 0.3872\n",
      "Epoch 24/50\n",
      "50000/50000 [==============================] - 3s 57us/step - loss: 5.7021 - acc: 0.3845 - val_loss: 5.6859 - val_acc: 0.3908\n",
      "Epoch 25/50\n",
      "50000/50000 [==============================] - 3s 57us/step - loss: 5.6932 - acc: 0.3859 - val_loss: 5.6781 - val_acc: 0.3932\n",
      "Epoch 26/50\n",
      "50000/50000 [==============================] - 3s 57us/step - loss: 5.6839 - acc: 0.3893 - val_loss: 5.6704 - val_acc: 0.3948\n",
      "Epoch 27/50\n",
      "50000/50000 [==============================] - 3s 57us/step - loss: 5.6760 - acc: 0.3918 - val_loss: 5.6630 - val_acc: 0.3964\n",
      "Epoch 28/50\n",
      "50000/50000 [==============================] - 3s 57us/step - loss: 5.6673 - acc: 0.3945 - val_loss: 5.6560 - val_acc: 0.3975\n",
      "Epoch 29/50\n",
      "50000/50000 [==============================] - 3s 58us/step - loss: 5.6592 - acc: 0.3984 - val_loss: 5.6487 - val_acc: 0.3998\n",
      "Epoch 30/50\n",
      "50000/50000 [==============================] - 3s 57us/step - loss: 5.6513 - acc: 0.4011 - val_loss: 5.6418 - val_acc: 0.4022\n",
      "Epoch 31/50\n",
      "50000/50000 [==============================] - 3s 57us/step - loss: 5.6443 - acc: 0.4016 - val_loss: 5.6350 - val_acc: 0.4048\n",
      "Epoch 32/50\n",
      "50000/50000 [==============================] - 3s 57us/step - loss: 5.6374 - acc: 0.4034 - val_loss: 5.6288 - val_acc: 0.4056\n",
      "Epoch 33/50\n",
      "50000/50000 [==============================] - 3s 57us/step - loss: 5.6320 - acc: 0.4056 - val_loss: 5.6224 - val_acc: 0.4076\n",
      "Epoch 34/50\n",
      "50000/50000 [==============================] - 3s 57us/step - loss: 5.6218 - acc: 0.4081 - val_loss: 5.6163 - val_acc: 0.4100\n",
      "Epoch 35/50\n",
      "50000/50000 [==============================] - 3s 57us/step - loss: 5.6165 - acc: 0.4087 - val_loss: 5.6105 - val_acc: 0.4105\n",
      "Epoch 36/50\n",
      "50000/50000 [==============================] - 3s 58us/step - loss: 5.6114 - acc: 0.4105 - val_loss: 5.6045 - val_acc: 0.4118\n",
      "Epoch 37/50\n",
      "50000/50000 [==============================] - 3s 58us/step - loss: 5.6041 - acc: 0.4138 - val_loss: 5.5986 - val_acc: 0.4135\n",
      "Epoch 38/50\n",
      "50000/50000 [==============================] - 3s 58us/step - loss: 5.5964 - acc: 0.4137 - val_loss: 5.5931 - val_acc: 0.4141\n",
      "Epoch 39/50\n",
      "50000/50000 [==============================] - 3s 57us/step - loss: 5.5886 - acc: 0.4165 - val_loss: 5.5876 - val_acc: 0.4157\n",
      "Epoch 40/50\n",
      "50000/50000 [==============================] - 3s 58us/step - loss: 5.5841 - acc: 0.4188 - val_loss: 5.5823 - val_acc: 0.4165\n",
      "Epoch 41/50\n",
      "50000/50000 [==============================] - 3s 58us/step - loss: 5.5764 - acc: 0.4228 - val_loss: 5.5767 - val_acc: 0.4172\n",
      "Epoch 42/50\n",
      "50000/50000 [==============================] - 3s 58us/step - loss: 5.5724 - acc: 0.4235 - val_loss: 5.5716 - val_acc: 0.4194\n",
      "Epoch 43/50\n",
      "50000/50000 [==============================] - 3s 58us/step - loss: 5.5664 - acc: 0.4255 - val_loss: 5.5667 - val_acc: 0.4208\n",
      "Epoch 44/50\n",
      "50000/50000 [==============================] - 3s 58us/step - loss: 5.5599 - acc: 0.4262 - val_loss: 5.5615 - val_acc: 0.4223\n",
      "Epoch 45/50\n",
      "50000/50000 [==============================] - 3s 58us/step - loss: 5.5557 - acc: 0.4264 - val_loss: 5.5565 - val_acc: 0.4231\n",
      "Epoch 46/50\n",
      "50000/50000 [==============================] - 3s 58us/step - loss: 5.5487 - acc: 0.4280 - val_loss: 5.5517 - val_acc: 0.4243\n",
      "Epoch 47/50\n",
      "50000/50000 [==============================] - 3s 58us/step - loss: 5.5438 - acc: 0.4292 - val_loss: 5.5469 - val_acc: 0.4254\n",
      "Epoch 48/50\n",
      "50000/50000 [==============================] - 3s 58us/step - loss: 5.5367 - acc: 0.4316 - val_loss: 5.5423 - val_acc: 0.4257\n",
      "Epoch 49/50\n",
      "50000/50000 [==============================] - 3s 57us/step - loss: 5.5327 - acc: 0.4328 - val_loss: 5.5376 - val_acc: 0.4272\n",
      "Epoch 50/50\n",
      "50000/50000 [==============================] - 3s 57us/step - loss: 5.5277 - acc: 0.4342 - val_loss: 5.5330 - val_acc: 0.4289\n"
     ]
    }
   ],
   "source": [
    "results = {}\n",
    "\"\"\"Code Here\n",
    "撰寫你的訓練流程並將結果用 dictionary 紀錄\n",
    "\"\"\"\n",
    "\n",
    "model = build_mlp(x_train.shape[1:])\n",
    "opt= keras.optimizers.SGD(lr = LEARNING_RATE)\n",
    "\n",
    "model.compile(loss = 'categorical_crossentropy',optimizer = opt,metrics=['accuracy'])\n",
    "model.fit(x_train,y_train,\n",
    "         epochs = EPOCHS,\n",
    "         batch_size= 512,\n",
    "         validation_data = (x_test,y_test),\n",
    "         shuffle=True)\n",
    "\n",
    "train_loss = model.history.history['loss']\n",
    "valid_loss = model.history.history['val_loss']\n",
    "train_acc = model.history.history['acc']\n",
    "val_acc = model.history.history['val_acc']"
   ]
  },
  {
   "cell_type": "code",
   "execution_count": null,
   "metadata": {},
   "outputs": [],
   "source": []
  },
  {
   "cell_type": "code",
   "execution_count": null,
   "metadata": {},
   "outputs": [],
   "source": []
  }
 ],
 "metadata": {
  "kernelspec": {
   "display_name": "Python 3",
   "language": "python",
   "name": "python3"
  },
  "language_info": {
   "codemirror_mode": {
    "name": "ipython",
    "version": 3
   },
   "file_extension": ".py",
   "mimetype": "text/x-python",
   "name": "python",
   "nbconvert_exporter": "python",
   "pygments_lexer": "ipython3",
   "version": "3.7.3"
  }
 },
 "nbformat": 4,
 "nbformat_minor": 2
}
