{
 "cells": [
  {
   "cell_type": "markdown",
   "metadata": {},
   "source": [
    "## Work\n",
    "1. 請嘗試將 preproc_x 替換成以每筆資料的 min/max 進行標準化至 -1 ~ 1 間，再進行訓練\n",
    "2. 請嘗試將 mlp 疊更深 (e.g 5~10 層)，進行訓練後觀察 learning curve 的走勢\n",
    "3. (optional) 請改用 GPU 進行訓練 (如果你有 GPU 的話)，比較使用 CPU 與 GPU 的訓練速度"
   ]
  },
  {
   "cell_type": "markdown",
   "metadata": {},
   "source": [
    "## \n",
    "\"\"\"\n",
    "Your code here (optional)\n",
    "確認硬體資源\n",
    "\"\"\"\n",
    "nvidia-smi for Linux mac"
   ]
  },
  {
   "cell_type": "code",
   "execution_count": 33,
   "metadata": {},
   "outputs": [],
   "source": [
    "import os\n",
    "import keras\n",
    "\n",
    "# 請嘗試設定 GPU：os.environ\n",
    "os.environ['CUDA_VISIBLE_DEVICES'] = \"0\""
   ]
  },
  {
   "cell_type": "code",
   "execution_count": 34,
   "metadata": {},
   "outputs": [],
   "source": [
    "train, test = keras.datasets.cifar10.load_data()"
   ]
  },
  {
   "cell_type": "code",
   "execution_count": 35,
   "metadata": {},
   "outputs": [],
   "source": [
    "## 資料前處理\n",
    "\"\"\"\n",
    "Your code here\n",
    "\"\"\"\n",
    "def preproc_x(x, flatten=True):\n",
    "    x = x/255\n",
    "    if flatten==True:\n",
    "        x = x.reshape((len(x), -1))\n",
    "    return x\n",
    "                      \n",
    "                      \n",
    "def preproc_y(y,n = 10):\n",
    "    if y.shape[-1]==1:\n",
    "        y = keras.utils.to_categorical(y,n)\n",
    "    return y"
   ]
  },
  {
   "cell_type": "code",
   "execution_count": 36,
   "metadata": {},
   "outputs": [],
   "source": [
    "x_train, y_train = train\n",
    "x_test, y_test = test\n",
    "\n",
    "# Preproc the inputs\n",
    "x_train = preproc_x(x_train)\n",
    "x_test = preproc_x(x_test)\n",
    "\n",
    "# Preprc the outputs\n",
    "y_train = preproc_y(y_train)\n",
    "y_test = preproc_y(y_test)"
   ]
  },
  {
   "cell_type": "code",
   "execution_count": null,
   "metadata": {},
   "outputs": [],
   "source": []
  },
  {
   "cell_type": "code",
   "execution_count": 44,
   "metadata": {},
   "outputs": [
    {
     "name": "stdout",
     "output_type": "stream",
     "text": [
      "_________________________________________________________________\n",
      "Layer (type)                 Output Shape              Param #   \n",
      "=================================================================\n",
      "input_4 (InputLayer)         (None, 3072)              0         \n",
      "_________________________________________________________________\n",
      "hidden_layer1 (Dense)        (None, 512)               1573376   \n",
      "_________________________________________________________________\n",
      "hidden_layer2 (Dense)        (None, 256)               131328    \n",
      "_________________________________________________________________\n",
      "hidden_layer3 (Dense)        (None, 128)               32896     \n",
      "_________________________________________________________________\n",
      "output (Dense)               (None, 10)                1290      \n",
      "=================================================================\n",
      "Total params: 1,738,890\n",
      "Trainable params: 1,738,890\n",
      "Non-trainable params: 0\n",
      "_________________________________________________________________\n"
     ]
    },
    {
     "name": "stderr",
     "output_type": "stream",
     "text": [
      "C:\\Users\\Xuan\\Anaconda3\\lib\\site-packages\\ipykernel_launcher.py:14: UserWarning: Update your `Model` call to the Keras 2 API: `Model(inputs=[<tf.Tenso..., outputs=[<tf.Tenso...)`\n",
      "  \n"
     ]
    }
   ],
   "source": [
    "\"\"\"Code Here\n",
    "建立你的神經網路\n",
    "\"\"\"\n",
    "def build_mlp(input_shape,num_neurons=[512, 256, 128],output=10):\n",
    "    input_layer = keras.layers.Input(input_shape)\n",
    "    for i, units in enumerate(num_neurons):\n",
    "        if i ==0:\n",
    "            x = keras.layers.Dense(units=units,activation='relu',name = 'hidden_layer'+str(i+1))(input_layer)\n",
    "        else:\n",
    "            x = keras.layers.Dense(units=units,activation='relu',name = 'hidden_layer'+str(i+1))(x)\n",
    "            \n",
    "    out = keras.layers.Dense(units=output,activation='softmax',name='output')(x)\n",
    "\n",
    "    model = keras.models.Model(inputs= [input_layer],output=[out])\n",
    "    return model\n",
    "model = build_mlp(input_shape=x_train.shape[1:])\n",
    "model.summary()"
   ]
  },
  {
   "cell_type": "code",
   "execution_count": 45,
   "metadata": {},
   "outputs": [],
   "source": [
    "## 超參數設定\n",
    "LEARNING_RATE = 0.001\n",
    "EPOCHS = 100\n",
    "BATCH_SIZE = 256"
   ]
  },
  {
   "cell_type": "code",
   "execution_count": 46,
   "metadata": {},
   "outputs": [],
   "source": [
    "optimizer = keras.optimizers.Adam(lr=LEARNING_RATE)\n",
    "model.compile(loss=\"categorical_crossentropy\", metrics=[\"accuracy\"], optimizer=optimizer)"
   ]
  },
  {
   "cell_type": "code",
   "execution_count": 47,
   "metadata": {},
   "outputs": [
    {
     "name": "stdout",
     "output_type": "stream",
     "text": [
      "Train on 50000 samples, validate on 10000 samples\n",
      "Epoch 1/100\n",
      "50000/50000 [==============================] - 5s 105us/step - loss: 1.9605 - acc: 0.2934 - val_loss: 1.7889 - val_acc: 0.3623\n",
      "Epoch 2/100\n",
      "50000/50000 [==============================] - 5s 91us/step - loss: 1.7134 - acc: 0.3895 - val_loss: 1.6704 - val_acc: 0.4038\n",
      "Epoch 3/100\n",
      "50000/50000 [==============================] - 5s 92us/step - loss: 1.6333 - acc: 0.4173 - val_loss: 1.5637 - val_acc: 0.4418\n",
      "Epoch 4/100\n",
      "50000/50000 [==============================] - 4s 89us/step - loss: 1.5664 - acc: 0.4423 - val_loss: 1.5408 - val_acc: 0.4502\n",
      "Epoch 5/100\n",
      "50000/50000 [==============================] - 5s 90us/step - loss: 1.5142 - acc: 0.4588 - val_loss: 1.5820 - val_acc: 0.4319\n",
      "Epoch 6/100\n",
      "50000/50000 [==============================] - 5s 94us/step - loss: 1.4789 - acc: 0.4742 - val_loss: 1.5059 - val_acc: 0.4658\n",
      "Epoch 7/100\n",
      "50000/50000 [==============================] - 4s 90us/step - loss: 1.4477 - acc: 0.4839 - val_loss: 1.4761 - val_acc: 0.4695\n",
      "Epoch 8/100\n",
      "50000/50000 [==============================] - 5s 91us/step - loss: 1.4154 - acc: 0.4965 - val_loss: 1.4612 - val_acc: 0.4784\n",
      "Epoch 9/100\n",
      "50000/50000 [==============================] - 4s 89us/step - loss: 1.3850 - acc: 0.5078 - val_loss: 1.4250 - val_acc: 0.4899\n",
      "Epoch 10/100\n",
      "50000/50000 [==============================] - 4s 90us/step - loss: 1.3646 - acc: 0.5148 - val_loss: 1.4602 - val_acc: 0.4800\n",
      "Epoch 11/100\n",
      "50000/50000 [==============================] - 5s 93us/step - loss: 1.3381 - acc: 0.5253 - val_loss: 1.4051 - val_acc: 0.5040\n",
      "Epoch 12/100\n",
      "50000/50000 [==============================] - 4s 90us/step - loss: 1.3237 - acc: 0.5294 - val_loss: 1.4065 - val_acc: 0.4965\n",
      "Epoch 13/100\n",
      "50000/50000 [==============================] - 5s 91us/step - loss: 1.2976 - acc: 0.5372 - val_loss: 1.4344 - val_acc: 0.4919\n",
      "Epoch 14/100\n",
      "50000/50000 [==============================] - 5s 91us/step - loss: 1.2777 - acc: 0.5433 - val_loss: 1.4050 - val_acc: 0.5038\n",
      "Epoch 15/100\n",
      "50000/50000 [==============================] - 4s 89us/step - loss: 1.2603 - acc: 0.5513 - val_loss: 1.4027 - val_acc: 0.5027\n",
      "Epoch 16/100\n",
      "50000/50000 [==============================] - 5s 93us/step - loss: 1.2356 - acc: 0.5586 - val_loss: 1.4062 - val_acc: 0.5042\n",
      "Epoch 17/100\n",
      "50000/50000 [==============================] - 5s 92us/step - loss: 1.2196 - acc: 0.5658 - val_loss: 1.3766 - val_acc: 0.5108\n",
      "Epoch 18/100\n",
      "50000/50000 [==============================] - 4s 89us/step - loss: 1.1964 - acc: 0.5727 - val_loss: 1.3867 - val_acc: 0.5117\n",
      "Epoch 19/100\n",
      "50000/50000 [==============================] - 4s 89us/step - loss: 1.1668 - acc: 0.5836 - val_loss: 1.3934 - val_acc: 0.5110\n",
      "Epoch 20/100\n",
      "50000/50000 [==============================] - 5s 90us/step - loss: 1.1530 - acc: 0.5898 - val_loss: 1.3763 - val_acc: 0.5212\n",
      "Epoch 21/100\n",
      "50000/50000 [==============================] - 5s 90us/step - loss: 1.1391 - acc: 0.5927 - val_loss: 1.3722 - val_acc: 0.5194\n",
      "Epoch 22/100\n",
      "50000/50000 [==============================] - 5s 91us/step - loss: 1.1110 - acc: 0.6045 - val_loss: 1.3859 - val_acc: 0.5196\n",
      "Epoch 23/100\n",
      "50000/50000 [==============================] - 5s 91us/step - loss: 1.0910 - acc: 0.6134 - val_loss: 1.3570 - val_acc: 0.5269\n",
      "Epoch 24/100\n",
      "50000/50000 [==============================] - 5s 91us/step - loss: 1.0808 - acc: 0.6137 - val_loss: 1.3875 - val_acc: 0.5276\n",
      "Epoch 25/100\n",
      "50000/50000 [==============================] - 5s 91us/step - loss: 1.0584 - acc: 0.6220 - val_loss: 1.4083 - val_acc: 0.5229\n",
      "Epoch 26/100\n",
      "50000/50000 [==============================] - 4s 79us/step - loss: 1.0341 - acc: 0.6297 - val_loss: 1.3966 - val_acc: 0.5223\n",
      "Epoch 27/100\n",
      "50000/50000 [==============================] - 4s 83us/step - loss: 1.0147 - acc: 0.6393 - val_loss: 1.4147 - val_acc: 0.5216\n",
      "Epoch 28/100\n",
      "50000/50000 [==============================] - 4s 79us/step - loss: 1.0033 - acc: 0.6412 - val_loss: 1.4324 - val_acc: 0.5188\n",
      "Epoch 29/100\n",
      "50000/50000 [==============================] - 4s 79us/step - loss: 0.9864 - acc: 0.6480 - val_loss: 1.4274 - val_acc: 0.5165\n",
      "Epoch 30/100\n",
      "50000/50000 [==============================] - 4s 80us/step - loss: 0.9639 - acc: 0.6566 - val_loss: 1.4378 - val_acc: 0.5294\n",
      "Epoch 31/100\n",
      "50000/50000 [==============================] - 4s 80us/step - loss: 0.9523 - acc: 0.6607 - val_loss: 1.4812 - val_acc: 0.5103\n",
      "Epoch 32/100\n",
      "50000/50000 [==============================] - 4s 81us/step - loss: 0.9375 - acc: 0.6639 - val_loss: 1.4581 - val_acc: 0.5196\n",
      "Epoch 33/100\n",
      "50000/50000 [==============================] - 4s 79us/step - loss: 0.9189 - acc: 0.6746 - val_loss: 1.4182 - val_acc: 0.5323\n",
      "Epoch 34/100\n",
      "50000/50000 [==============================] - 4s 80us/step - loss: 0.9006 - acc: 0.6798 - val_loss: 1.4537 - val_acc: 0.5199\n",
      "Epoch 35/100\n",
      "50000/50000 [==============================] - 4s 79us/step - loss: 0.8805 - acc: 0.6837 - val_loss: 1.5383 - val_acc: 0.5026\n",
      "Epoch 36/100\n",
      "50000/50000 [==============================] - 4s 79us/step - loss: 0.8716 - acc: 0.6882 - val_loss: 1.4850 - val_acc: 0.5137\n",
      "Epoch 37/100\n",
      "50000/50000 [==============================] - 4s 78us/step - loss: 0.8551 - acc: 0.6933 - val_loss: 1.5243 - val_acc: 0.5170\n",
      "Epoch 38/100\n",
      "50000/50000 [==============================] - 4s 84us/step - loss: 0.8272 - acc: 0.7061 - val_loss: 1.5389 - val_acc: 0.5150\n",
      "Epoch 39/100\n",
      "50000/50000 [==============================] - 4s 87us/step - loss: 0.8214 - acc: 0.7056 - val_loss: 1.5192 - val_acc: 0.5201\n",
      "Epoch 40/100\n",
      "50000/50000 [==============================] - 4s 85us/step - loss: 0.8084 - acc: 0.7110 - val_loss: 1.6449 - val_acc: 0.4969\n",
      "Epoch 41/100\n",
      "50000/50000 [==============================] - 4s 86us/step - loss: 0.7979 - acc: 0.7157 - val_loss: 1.5806 - val_acc: 0.5138\n",
      "Epoch 42/100\n",
      "50000/50000 [==============================] - 4s 89us/step - loss: 0.7748 - acc: 0.7222 - val_loss: 1.6475 - val_acc: 0.5109\n",
      "Epoch 43/100\n",
      "50000/50000 [==============================] - 4s 89us/step - loss: 0.7550 - acc: 0.7306 - val_loss: 1.6225 - val_acc: 0.5162\n",
      "Epoch 44/100\n",
      "50000/50000 [==============================] - 5s 91us/step - loss: 0.7466 - acc: 0.7324 - val_loss: 1.6068 - val_acc: 0.5202\n",
      "Epoch 45/100\n",
      "50000/50000 [==============================] - 5s 92us/step - loss: 0.7404 - acc: 0.7356 - val_loss: 1.6576 - val_acc: 0.5161\n",
      "Epoch 46/100\n",
      "50000/50000 [==============================] - 5s 90us/step - loss: 0.7152 - acc: 0.7448 - val_loss: 1.6827 - val_acc: 0.5137\n",
      "Epoch 47/100\n",
      "50000/50000 [==============================] - 5s 92us/step - loss: 0.7018 - acc: 0.7502 - val_loss: 1.7312 - val_acc: 0.5055\n",
      "Epoch 48/100\n",
      "50000/50000 [==============================] - 5s 92us/step - loss: 0.6874 - acc: 0.7561 - val_loss: 1.6799 - val_acc: 0.5167\n",
      "Epoch 49/100\n",
      "50000/50000 [==============================] - 5s 90us/step - loss: 0.6729 - acc: 0.7589 - val_loss: 1.7252 - val_acc: 0.5222\n",
      "Epoch 50/100\n",
      "50000/50000 [==============================] - 5s 91us/step - loss: 0.6760 - acc: 0.7585 - val_loss: 1.7231 - val_acc: 0.5062\n",
      "Epoch 51/100\n",
      "50000/50000 [==============================] - 5s 94us/step - loss: 0.6544 - acc: 0.7667 - val_loss: 1.7570 - val_acc: 0.5108\n",
      "Epoch 52/100\n",
      "50000/50000 [==============================] - 5s 95us/step - loss: 0.6349 - acc: 0.7729 - val_loss: 1.7338 - val_acc: 0.5241\n",
      "Epoch 53/100\n",
      "50000/50000 [==============================] - 5s 92us/step - loss: 0.6326 - acc: 0.7742 - val_loss: 1.7934 - val_acc: 0.5066\n",
      "Epoch 54/100\n",
      "50000/50000 [==============================] - 4s 81us/step - loss: 0.6168 - acc: 0.7782 - val_loss: 1.9006 - val_acc: 0.5053\n",
      "Epoch 55/100\n",
      "50000/50000 [==============================] - 4s 85us/step - loss: 0.6173 - acc: 0.7793 - val_loss: 1.8620 - val_acc: 0.5072\n",
      "Epoch 56/100\n",
      "50000/50000 [==============================] - 4s 81us/step - loss: 0.5952 - acc: 0.7876 - val_loss: 1.9097 - val_acc: 0.5114\n",
      "Epoch 57/100\n",
      "50000/50000 [==============================] - 4s 81us/step - loss: 0.5830 - acc: 0.7916 - val_loss: 1.9053 - val_acc: 0.5124\n",
      "Epoch 58/100\n",
      "50000/50000 [==============================] - 4s 85us/step - loss: 0.5866 - acc: 0.7896 - val_loss: 1.9475 - val_acc: 0.5022\n",
      "Epoch 59/100\n"
     ]
    },
    {
     "name": "stdout",
     "output_type": "stream",
     "text": [
      "50000/50000 [==============================] - 4s 80us/step - loss: 0.5644 - acc: 0.7958 - val_loss: 2.0010 - val_acc: 0.5081\n",
      "Epoch 60/100\n",
      "50000/50000 [==============================] - 4s 83us/step - loss: 0.5653 - acc: 0.7978 - val_loss: 1.9443 - val_acc: 0.5108\n",
      "Epoch 61/100\n",
      "50000/50000 [==============================] - 4s 86us/step - loss: 0.5415 - acc: 0.8064 - val_loss: 2.0842 - val_acc: 0.5045\n",
      "Epoch 62/100\n",
      "50000/50000 [==============================] - 4s 85us/step - loss: 0.5458 - acc: 0.8030 - val_loss: 2.0040 - val_acc: 0.5128\n",
      "Epoch 63/100\n",
      "50000/50000 [==============================] - 4s 85us/step - loss: 0.5192 - acc: 0.8169 - val_loss: 2.0947 - val_acc: 0.5071\n",
      "Epoch 64/100\n",
      "50000/50000 [==============================] - 4s 82us/step - loss: 0.5289 - acc: 0.8125 - val_loss: 2.0671 - val_acc: 0.5074\n",
      "Epoch 65/100\n",
      "50000/50000 [==============================] - 4s 82us/step - loss: 0.5079 - acc: 0.8199 - val_loss: 2.0819 - val_acc: 0.5054\n",
      "Epoch 66/100\n",
      "50000/50000 [==============================] - 4s 85us/step - loss: 0.4932 - acc: 0.8245 - val_loss: 2.0961 - val_acc: 0.5075\n",
      "Epoch 67/100\n",
      "50000/50000 [==============================] - 4s 87us/step - loss: 0.4961 - acc: 0.8230 - val_loss: 2.1814 - val_acc: 0.4962\n",
      "Epoch 68/100\n",
      "50000/50000 [==============================] - 4s 85us/step - loss: 0.4820 - acc: 0.8277 - val_loss: 2.1809 - val_acc: 0.5017\n",
      "Epoch 69/100\n",
      "50000/50000 [==============================] - 4s 88us/step - loss: 0.4817 - acc: 0.8264 - val_loss: 2.2322 - val_acc: 0.5015\n",
      "Epoch 70/100\n",
      "50000/50000 [==============================] - 5s 91us/step - loss: 0.4623 - acc: 0.8368 - val_loss: 2.2584 - val_acc: 0.5097\n",
      "Epoch 71/100\n",
      "50000/50000 [==============================] - 4s 89us/step - loss: 0.4655 - acc: 0.8322 - val_loss: 2.2892 - val_acc: 0.5053\n",
      "Epoch 72/100\n",
      "50000/50000 [==============================] - 4s 90us/step - loss: 0.4579 - acc: 0.8357 - val_loss: 2.3219 - val_acc: 0.5032\n",
      "Epoch 73/100\n",
      "50000/50000 [==============================] - 4s 89us/step - loss: 0.4454 - acc: 0.8399 - val_loss: 2.3030 - val_acc: 0.5040\n",
      "Epoch 74/100\n",
      "50000/50000 [==============================] - 4s 87us/step - loss: 0.4525 - acc: 0.8383 - val_loss: 2.2827 - val_acc: 0.5006\n",
      "Epoch 75/100\n",
      "50000/50000 [==============================] - 4s 87us/step - loss: 0.4379 - acc: 0.8445 - val_loss: 2.3464 - val_acc: 0.5071\n",
      "Epoch 76/100\n",
      "50000/50000 [==============================] - 4s 89us/step - loss: 0.4274 - acc: 0.8483 - val_loss: 2.4192 - val_acc: 0.4999\n",
      "Epoch 77/100\n",
      "50000/50000 [==============================] - 5s 91us/step - loss: 0.4087 - acc: 0.8533 - val_loss: 2.4335 - val_acc: 0.4964\n",
      "Epoch 78/100\n",
      "50000/50000 [==============================] - 5s 91us/step - loss: 0.4224 - acc: 0.8488 - val_loss: 2.3883 - val_acc: 0.5082\n",
      "Epoch 79/100\n",
      "50000/50000 [==============================] - 5s 92us/step - loss: 0.4090 - acc: 0.8535 - val_loss: 2.5267 - val_acc: 0.4952\n",
      "Epoch 80/100\n",
      "50000/50000 [==============================] - 5s 92us/step - loss: 0.4033 - acc: 0.8556 - val_loss: 2.5145 - val_acc: 0.5025\n",
      "Epoch 81/100\n",
      "50000/50000 [==============================] - 5s 95us/step - loss: 0.3804 - acc: 0.8643 - val_loss: 2.4906 - val_acc: 0.5046\n",
      "Epoch 82/100\n",
      "50000/50000 [==============================] - 4s 86us/step - loss: 0.3818 - acc: 0.8629 - val_loss: 2.6049 - val_acc: 0.4998\n",
      "Epoch 83/100\n",
      "50000/50000 [==============================] - 4s 81us/step - loss: 0.3978 - acc: 0.8559 - val_loss: 2.5447 - val_acc: 0.5009\n",
      "Epoch 84/100\n",
      "50000/50000 [==============================] - 4s 86us/step - loss: 0.3805 - acc: 0.8628 - val_loss: 2.6009 - val_acc: 0.4990\n",
      "Epoch 85/100\n",
      "50000/50000 [==============================] - 5s 104us/step - loss: 0.3810 - acc: 0.8625 - val_loss: 2.6381 - val_acc: 0.5013\n",
      "Epoch 86/100\n",
      "50000/50000 [==============================] - 5s 95us/step - loss: 0.3707 - acc: 0.8673 - val_loss: 2.6005 - val_acc: 0.5054\n",
      "Epoch 87/100\n",
      "50000/50000 [==============================] - 4s 84us/step - loss: 0.3446 - acc: 0.8763 - val_loss: 2.6805 - val_acc: 0.4922\n",
      "Epoch 88/100\n",
      "50000/50000 [==============================] - 4s 81us/step - loss: 0.3481 - acc: 0.8755 - val_loss: 2.7893 - val_acc: 0.4891\n",
      "Epoch 89/100\n",
      "50000/50000 [==============================] - 4s 81us/step - loss: 0.3670 - acc: 0.8675 - val_loss: 2.6884 - val_acc: 0.4965\n",
      "Epoch 90/100\n",
      "50000/50000 [==============================] - 4s 86us/step - loss: 0.3637 - acc: 0.8698 - val_loss: 2.7437 - val_acc: 0.4981\n",
      "Epoch 91/100\n",
      "50000/50000 [==============================] - 4s 75us/step - loss: 0.3489 - acc: 0.8748 - val_loss: 2.7928 - val_acc: 0.4990\n",
      "Epoch 92/100\n",
      "50000/50000 [==============================] - 4s 85us/step - loss: 0.3191 - acc: 0.8866 - val_loss: 2.8563 - val_acc: 0.4979\n",
      "Epoch 93/100\n",
      "50000/50000 [==============================] - 4s 80us/step - loss: 0.3464 - acc: 0.8764 - val_loss: 2.8342 - val_acc: 0.4977\n",
      "Epoch 94/100\n",
      "50000/50000 [==============================] - 4s 80us/step - loss: 0.3180 - acc: 0.8856 - val_loss: 2.9110 - val_acc: 0.4967\n",
      "Epoch 95/100\n",
      "50000/50000 [==============================] - 4s 83us/step - loss: 0.3305 - acc: 0.8817 - val_loss: 2.8703 - val_acc: 0.5029\n",
      "Epoch 96/100\n",
      "50000/50000 [==============================] - 4s 81us/step - loss: 0.3588 - acc: 0.8700 - val_loss: 2.9140 - val_acc: 0.4933\n",
      "Epoch 97/100\n",
      "50000/50000 [==============================] - 4s 88us/step - loss: 0.3084 - acc: 0.8879 - val_loss: 2.8838 - val_acc: 0.5078\n",
      "Epoch 98/100\n",
      "50000/50000 [==============================] - 4s 84us/step - loss: 0.3116 - acc: 0.8873 - val_loss: 2.9498 - val_acc: 0.4985\n",
      "Epoch 99/100\n",
      "50000/50000 [==============================] - 4s 78us/step - loss: 0.3183 - acc: 0.8840 - val_loss: 2.9077 - val_acc: 0.4997\n",
      "Epoch 100/100\n",
      "50000/50000 [==============================] - 4s 84us/step - loss: 0.3159 - acc: 0.8849 - val_loss: 3.0414 - val_acc: 0.4878\n"
     ]
    },
    {
     "data": {
      "text/plain": [
       "<keras.callbacks.History at 0x18f684ed080>"
      ]
     },
     "execution_count": 47,
     "metadata": {},
     "output_type": "execute_result"
    }
   ],
   "source": [
    "model.fit(x_train, y_train, \n",
    "          epochs=EPOCHS, \n",
    "          batch_size=BATCH_SIZE, \n",
    "          validation_data=(x_test, y_test), \n",
    "          shuffle=True)"
   ]
  },
  {
   "cell_type": "code",
   "execution_count": null,
   "metadata": {},
   "outputs": [],
   "source": []
  },
  {
   "cell_type": "code",
   "execution_count": 48,
   "metadata": {},
   "outputs": [
    {
     "data": {
      "image/png": "[encoded data removed]",
      "text/plain": [
       "<Figure size 432x288 with 1 Axes>"
      ]
     },
     "metadata": {
      "needs_background": "light"
     },
     "output_type": "display_data"
    },
    {
     "data": {
      "image/png": "[encoded data removed]",
      "text/plain": [
       "<Figure size 432x288 with 1 Axes>"
      ]
     },
     "metadata": {
      "needs_background": "light"
     },
     "output_type": "display_data"
    }
   ],
   "source": [
    "import matplotlib.pyplot as plt\n",
    "%matplotlib inline\n",
    "\n",
    "train_loss = model.history.history[\"loss\"]\n",
    "valid_loss = model.history.history[\"val_loss\"]\n",
    "\n",
    "train_acc = model.history.history[\"acc\"]\n",
    "valid_acc = model.history.history[\"val_acc\"]\n",
    "\n",
    "plt.plot(range(len(train_loss)), train_loss, label=\"train loss\")\n",
    "plt.plot(range(len(valid_loss)), valid_loss, label=\"valid loss\")\n",
    "plt.legend()\n",
    "plt.title(\"Loss\")\n",
    "plt.show()\n",
    "\n",
    "plt.plot(range(len(train_acc)), train_acc, label=\"train accuracy\")\n",
    "plt.plot(range(len(valid_acc)), valid_acc, label=\"valid accuracy\")\n",
    "plt.legend()\n",
    "plt.title(\"Accuracy\")\n",
    "plt.show()"
   ]
  },
  {
   "cell_type": "code",
   "execution_count": null,
   "metadata": {},
   "outputs": [],
   "source": []
  }
 ],
 "metadata": {
  "kernelspec": {
   "display_name": "Python 3",
   "language": "python",
   "name": "python3"
  },
  "language_info": {
   "codemirror_mode": {
    "name": "ipython",
    "version": 3
   },
   "file_extension": ".py",
   "mimetype": "text/x-python",
   "name": "python",
   "nbconvert_exporter": "python",
   "pygments_lexer": "ipython3",
   "version": "3.7.3"
  }
 },
 "nbformat": 4,
 "nbformat_minor": 2
}
