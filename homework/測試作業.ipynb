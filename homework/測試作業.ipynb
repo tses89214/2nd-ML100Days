{
 "cells": [
  {
   "cell_type": "code",
   "execution_count": null,
   "metadata": {},
   "outputs": [],
   "source": [
    "import requests\n",
    "from bs4 import BeautifulSoup as bs\n",
    "import re\n",
    "import pandas as pd\n",
    "import gspread\n",
    "import datetime\n",
    "from oauth2client.service_account import ServiceAccountCredentials as SAC\n",
    "import time"
   ]
  },
  {
   "cell_type": "code",
   "execution_count": 63,
   "metadata": {},
   "outputs": [],
   "source": [
    "title_url=list()\n",
    "title_text=list()\n",
    "text_text = list()\n",
    "source_text=list()\n",
    "source_from = list()\n",
    "source_time = list()\n",
    "source_time_text = list()\n",
    "today_date = datetime.datetime.today()\n",
    "today_date_text = today_date.strftime(\"%Y-%m-%d\")\n",
    "stop_time  = today_date - datetime.timedelta(days = 6)\n",
    "start=0\n",
    "GDriveJSON = 'Yuntech-news-3.json'\n",
    "GSpreadSheet = '雲科大新聞蒐集'\n",
    "scope = ['https://www.googleapis.com/auth/drive']\n",
    "key = SAC.from_json_keyfile_name(GDriveJSON, scope)\n",
    "gc = gspread.authorize(key)\n",
    "worksheet = gc.open(GSpreadSheet).sheet1"
   ]
  },
  {
   "cell_type": "markdown",
   "metadata": {},
   "source": [
    "# MAIN"
   ]
  },
  {
   "cell_type": "code",
   "execution_count": 64,
   "metadata": {},
   "outputs": [
    {
     "name": "stdout",
     "output_type": "stream",
     "text": [
      "已完成：start = 0\n",
      "已完成：start = 10\n",
      "已完成：start = 20\n",
      "已完成：start = 30\n",
      "結束\n",
      "新增一列資料到試算表- 雲科大新聞蒐集\n",
      "新增一列資料到試算表- 雲科大新聞蒐集\n",
      "新增一列資料到試算表- 雲科大新聞蒐集\n",
      "新增一列資料到試算表- 雲科大新聞蒐集\n",
      "新增一列資料到試算表- 雲科大新聞蒐集\n",
      "新增一列資料到試算表- 雲科大新聞蒐集\n",
      "新增一列資料到試算表- 雲科大新聞蒐集\n",
      "新增一列資料到試算表- 雲科大新聞蒐集\n",
      "新增一列資料到試算表- 雲科大新聞蒐集\n"
     ]
    },
    {
     "ename": "KeyError",
     "evalue": "9",
     "output_type": "error",
     "traceback": [
      "\u001b[1;31m---------------------------------------------------------------------------\u001b[0m",
      "\u001b[1;31mKeyError\u001b[0m                                  Traceback (most recent call last)",
      "\u001b[1;32m<ipython-input-64-00291eeb54a4>\u001b[0m in \u001b[0;36m<module>\u001b[1;34m\u001b[0m\n\u001b[0;32m     57\u001b[0m \u001b[1;33m\u001b[0m\u001b[0m\n\u001b[0;32m     58\u001b[0m \u001b[1;32mfor\u001b[0m \u001b[0mi\u001b[0m \u001b[1;32min\u001b[0m \u001b[0mrange\u001b[0m\u001b[1;33m(\u001b[0m\u001b[0mlen\u001b[0m\u001b[1;33m(\u001b[0m\u001b[0mtitle_text\u001b[0m\u001b[1;33m)\u001b[0m\u001b[1;33m)\u001b[0m\u001b[1;33m:\u001b[0m\u001b[1;33m\u001b[0m\u001b[0m\n\u001b[1;32m---> 59\u001b[1;33m     \u001b[0mworksheet\u001b[0m\u001b[1;33m.\u001b[0m\u001b[0mappend_row\u001b[0m\u001b[1;33m(\u001b[0m\u001b[1;33m(\u001b[0m\u001b[0mresult\u001b[0m\u001b[1;33m[\u001b[0m\u001b[1;34m\"source_time\"\u001b[0m\u001b[1;33m]\u001b[0m\u001b[1;33m[\u001b[0m\u001b[0mi\u001b[0m\u001b[1;33m]\u001b[0m\u001b[1;33m,\u001b[0m\u001b[0mresult\u001b[0m\u001b[1;33m[\u001b[0m\u001b[1;34m\"title_text\"\u001b[0m\u001b[1;33m]\u001b[0m\u001b[1;33m[\u001b[0m\u001b[0mi\u001b[0m\u001b[1;33m]\u001b[0m\u001b[1;33m,\u001b[0m\u001b[0mresult\u001b[0m\u001b[1;33m[\u001b[0m\u001b[1;34m'text_text'\u001b[0m\u001b[1;33m]\u001b[0m\u001b[1;33m[\u001b[0m\u001b[0mi\u001b[0m\u001b[1;33m]\u001b[0m\u001b[1;33m,\u001b[0m\u001b[0mresult\u001b[0m\u001b[1;33m[\u001b[0m\u001b[1;34m'source_from'\u001b[0m\u001b[1;33m]\u001b[0m\u001b[1;33m[\u001b[0m\u001b[0mi\u001b[0m\u001b[1;33m]\u001b[0m\u001b[1;33m,\u001b[0m\u001b[0mresult\u001b[0m\u001b[1;33m[\u001b[0m\u001b[1;34m'title_url'\u001b[0m\u001b[1;33m]\u001b[0m\u001b[1;33m[\u001b[0m\u001b[0mi\u001b[0m\u001b[1;33m]\u001b[0m\u001b[1;33m,\u001b[0m\u001b[0mtoday_date_text\u001b[0m\u001b[1;33m)\u001b[0m\u001b[1;33m)\u001b[0m\u001b[1;33m\u001b[0m\u001b[0m\n\u001b[0m\u001b[0;32m     60\u001b[0m     \u001b[0mprint\u001b[0m\u001b[1;33m(\u001b[0m\u001b[1;34m'新增一列資料到試算表-'\u001b[0m\u001b[1;33m,\u001b[0m\u001b[0mGSpreadSheet\u001b[0m\u001b[1;33m)\u001b[0m\u001b[1;33m\u001b[0m\u001b[0m\n",
      "\u001b[1;32mc:\\users\\xuan\\appdata\\local\\programs\\python\\python36-32\\lib\\site-packages\\pandas\\core\\series.py\u001b[0m in \u001b[0;36m__getitem__\u001b[1;34m(self, key)\u001b[0m\n\u001b[0;32m    866\u001b[0m         \u001b[0mkey\u001b[0m \u001b[1;33m=\u001b[0m \u001b[0mcom\u001b[0m\u001b[1;33m.\u001b[0m\u001b[0mapply_if_callable\u001b[0m\u001b[1;33m(\u001b[0m\u001b[0mkey\u001b[0m\u001b[1;33m,\u001b[0m \u001b[0mself\u001b[0m\u001b[1;33m)\u001b[0m\u001b[1;33m\u001b[0m\u001b[0m\n\u001b[0;32m    867\u001b[0m         \u001b[1;32mtry\u001b[0m\u001b[1;33m:\u001b[0m\u001b[1;33m\u001b[0m\u001b[0m\n\u001b[1;32m--> 868\u001b[1;33m             \u001b[0mresult\u001b[0m \u001b[1;33m=\u001b[0m \u001b[0mself\u001b[0m\u001b[1;33m.\u001b[0m\u001b[0mindex\u001b[0m\u001b[1;33m.\u001b[0m\u001b[0mget_value\u001b[0m\u001b[1;33m(\u001b[0m\u001b[0mself\u001b[0m\u001b[1;33m,\u001b[0m \u001b[0mkey\u001b[0m\u001b[1;33m)\u001b[0m\u001b[1;33m\u001b[0m\u001b[0m\n\u001b[0m\u001b[0;32m    869\u001b[0m \u001b[1;33m\u001b[0m\u001b[0m\n\u001b[0;32m    870\u001b[0m             \u001b[1;32mif\u001b[0m \u001b[1;32mnot\u001b[0m \u001b[0mis_scalar\u001b[0m\u001b[1;33m(\u001b[0m\u001b[0mresult\u001b[0m\u001b[1;33m)\u001b[0m\u001b[1;33m:\u001b[0m\u001b[1;33m\u001b[0m\u001b[0m\n",
      "\u001b[1;32mc:\\users\\xuan\\appdata\\local\\programs\\python\\python36-32\\lib\\site-packages\\pandas\\core\\indexes\\base.py\u001b[0m in \u001b[0;36mget_value\u001b[1;34m(self, series, key)\u001b[0m\n\u001b[0;32m   4373\u001b[0m         \u001b[1;32mtry\u001b[0m\u001b[1;33m:\u001b[0m\u001b[1;33m\u001b[0m\u001b[0m\n\u001b[0;32m   4374\u001b[0m             return self._engine.get_value(s, k,\n\u001b[1;32m-> 4375\u001b[1;33m                                           tz=getattr(series.dtype, 'tz', None))\n\u001b[0m\u001b[0;32m   4376\u001b[0m         \u001b[1;32mexcept\u001b[0m \u001b[0mKeyError\u001b[0m \u001b[1;32mas\u001b[0m \u001b[0me1\u001b[0m\u001b[1;33m:\u001b[0m\u001b[1;33m\u001b[0m\u001b[0m\n\u001b[0;32m   4377\u001b[0m             \u001b[1;32mif\u001b[0m \u001b[0mlen\u001b[0m\u001b[1;33m(\u001b[0m\u001b[0mself\u001b[0m\u001b[1;33m)\u001b[0m \u001b[1;33m>\u001b[0m \u001b[1;36m0\u001b[0m \u001b[1;32mand\u001b[0m \u001b[1;33m(\u001b[0m\u001b[0mself\u001b[0m\u001b[1;33m.\u001b[0m\u001b[0mholds_integer\u001b[0m\u001b[1;33m(\u001b[0m\u001b[1;33m)\u001b[0m \u001b[1;32mor\u001b[0m \u001b[0mself\u001b[0m\u001b[1;33m.\u001b[0m\u001b[0mis_boolean\u001b[0m\u001b[1;33m(\u001b[0m\u001b[1;33m)\u001b[0m\u001b[1;33m)\u001b[0m\u001b[1;33m:\u001b[0m\u001b[1;33m\u001b[0m\u001b[0m\n",
      "\u001b[1;32mpandas\\_libs\\index.pyx\u001b[0m in \u001b[0;36mpandas._libs.index.IndexEngine.get_value\u001b[1;34m()\u001b[0m\n",
      "\u001b[1;32mpandas\\_libs\\index.pyx\u001b[0m in \u001b[0;36mpandas._libs.index.IndexEngine.get_value\u001b[1;34m()\u001b[0m\n",
      "\u001b[1;32mpandas\\_libs\\index.pyx\u001b[0m in \u001b[0;36mpandas._libs.index.IndexEngine.get_loc\u001b[1;34m()\u001b[0m\n",
      "\u001b[1;32mpandas\\_libs\\hashtable_class_helper.pxi\u001b[0m in \u001b[0;36mpandas._libs.hashtable.Int64HashTable.get_item\u001b[1;34m()\u001b[0m\n",
      "\u001b[1;32mpandas\\_libs\\hashtable_class_helper.pxi\u001b[0m in \u001b[0;36mpandas._libs.hashtable.Int64HashTable.get_item\u001b[1;34m()\u001b[0m\n",
      "\u001b[1;31mKeyError\u001b[0m: 9"
     ]
    }
   ],
   "source": [
    "while start<100:\n",
    "    url = \"https://www.google.com.tw/search?q=%22%E9%9B%B2%E6%9E%97%E7%A7%91%E6%8A%80%E5%A4%A7%E5%AD%B8%22OR%22%E9%9B%B2%E7%A7%91%E5%A4%A7%22OR%22%E5%9C%8B%E7%AB%8B%E9%9B%B2%E6%9E%97%E7%A7%91%E6%8A%80%E5%A4%A7%E5%AD%B8%22&tbs=sbd:1,qdr:w&tbm=nws&filter=0&start=\"+str(start)\n",
    "    r = requests.get(url)\n",
    "    soup = bs(r.text,\"html.parser\")\n",
    "    \n",
    "    title_raw= soup.select(\"h3 a\")\n",
    "    for t in title_raw:\n",
    "        title_url.append(re.sub(\"&sa=U.*\",\"\",re.sub(\".*q=\",\"\",t[\"href\"])))\n",
    "    for t in title_raw:\n",
    "        title_text.append(t.text)\n",
    "    if len(title_raw)==0:\n",
    "        print(\"結束\")\n",
    "        break\n",
    "        \n",
    "    text_raw = soup.select(\".st\")\n",
    "    for t in text_raw:\n",
    "        text_text.append(re.sub(\"\\xa0\",\"\",t.text))   \n",
    "        \n",
    "    source = soup.select(\".f\")\n",
    "    source_text=list()\n",
    "    for t in source:\n",
    "        if len(t.text)>0:\n",
    "            if (\" - \" in t.text):\n",
    "                source_text.append(t.text)\n",
    "    \n",
    "    for t in source_text:\n",
    "        temp = t.split(\" - \")\n",
    "        source_from.append(temp[0])\n",
    "        source_time.append(temp[1])\n",
    "        \n",
    "    for i in range(len(source_time)):\n",
    "        if \"分鐘\" in source_time[i]:\n",
    "            source_time_text.append(datetime.datetime.today()-datetime.timedelta(minutes=int(re.sub(\" 分鐘前\",\"\",source_time[i]))))\n",
    "        elif \"小時\" in source_time[i]:\n",
    "            source_time_text.append(datetime.datetime.today()-datetime.timedelta(hours=int(re.sub(\" 小時前\",\"\",source_time[i]))))\n",
    "        elif \"天\" in source_time[i]:\n",
    "            source_time_text.append(datetime.datetime.today()-datetime.timedelta(days=int(re.sub(\" 天前\",\"\",source_time[i]))))\n",
    "        elif \"年\" in source_time[i]:\n",
    "            source_time_text.append(datetime.datetime.strptime(source_time[i],\"%Y年%m月%d日\"))\n",
    "    source_time=list()\n",
    "    print(\"已完成：start = \"+ str(start))\n",
    "    start = start +10\n",
    "    time.sleep(5)\n",
    "\n",
    "for i in range(len(source_time_text)):\n",
    "    source_time_text[i]=source_time_text[i].strftime(\"%Y-%m-%d\")\n",
    "    \n",
    "result = pd.DataFrame({\n",
    "    \"title_text\": title_text,\n",
    "    \"title_url\" : title_url,\n",
    "    \"text_text\" : text_text,\n",
    "    \"source_from\" : source_from,\n",
    "    \"source_time\" : source_time_text\n",
    "})\n",
    "\n",
    "result.drop_duplicates(subset=['title_text','text_text','source_from','source_time'],inplace=True)\n",
    "\n",
    "\n",
    "for i in result.index:\n",
    "    worksheet.append_row((result[\"source_time\"][i],result[\"title_text\"][i],result['text_text'][i],result['source_from'][i],result['title_url'][i],today_date_text))\n",
    "    print('新增一列資料到試算表-',GSpreadSheet)"
   ]
  },
  {
   "cell_type": "code",
   "execution_count": 76,
   "metadata": {},
   "outputs": [
    {
     "name": "stdout",
     "output_type": "stream",
     "text": [
      "新增一列資料到試算表- 雲科大新聞蒐集\n",
      "新增一列資料到試算表- 雲科大新聞蒐集\n",
      "新增一列資料到試算表- 雲科大新聞蒐集\n",
      "新增一列資料到試算表- 雲科大新聞蒐集\n",
      "新增一列資料到試算表- 雲科大新聞蒐集\n",
      "新增一列資料到試算表- 雲科大新聞蒐集\n",
      "新增一列資料到試算表- 雲科大新聞蒐集\n",
      "新增一列資料到試算表- 雲科大新聞蒐集\n",
      "新增一列資料到試算表- 雲科大新聞蒐集\n",
      "新增一列資料到試算表- 雲科大新聞蒐集\n",
      "新增一列資料到試算表- 雲科大新聞蒐集\n",
      "新增一列資料到試算表- 雲科大新聞蒐集\n",
      "新增一列資料到試算表- 雲科大新聞蒐集\n",
      "新增一列資料到試算表- 雲科大新聞蒐集\n",
      "新增一列資料到試算表- 雲科大新聞蒐集\n",
      "新增一列資料到試算表- 雲科大新聞蒐集\n",
      "新增一列資料到試算表- 雲科大新聞蒐集\n",
      "新增一列資料到試算表- 雲科大新聞蒐集\n",
      "新增一列資料到試算表- 雲科大新聞蒐集\n",
      "新增一列資料到試算表- 雲科大新聞蒐集\n",
      "新增一列資料到試算表- 雲科大新聞蒐集\n",
      "新增一列資料到試算表- 雲科大新聞蒐集\n",
      "新增一列資料到試算表- 雲科大新聞蒐集\n",
      "新增一列資料到試算表- 雲科大新聞蒐集\n",
      "新增一列資料到試算表- 雲科大新聞蒐集\n",
      "新增一列資料到試算表- 雲科大新聞蒐集\n",
      "新增一列資料到試算表- 雲科大新聞蒐集\n",
      "新增一列資料到試算表- 雲科大新聞蒐集\n",
      "新增一列資料到試算表- 雲科大新聞蒐集\n",
      "新增一列資料到試算表- 雲科大新聞蒐集\n",
      "新增一列資料到試算表- 雲科大新聞蒐集\n",
      "新增一列資料到試算表- 雲科大新聞蒐集\n",
      "新增一列資料到試算表- 雲科大新聞蒐集\n",
      "新增一列資料到試算表- 雲科大新聞蒐集\n",
      "新增一列資料到試算表- 雲科大新聞蒐集\n",
      "新增一列資料到試算表- 雲科大新聞蒐集\n"
     ]
    }
   ],
   "source": [
    "for i in result.index:\n",
    "    worksheet.append_row((result[\"source_time\"][i],result[\"title_text\"][i],result['text_text'][i],result['source_from'][i],result['title_url'][i],today_date_text))\n",
    "    print('新增一列資料到試算表-',GSpreadSheet)"
   ]
  },
  {
   "cell_type": "markdown",
   "metadata": {},
   "source": [
    "# 拿到Raw"
   ]
  },
  {
   "cell_type": "code",
   "execution_count": 61,
   "metadata": {},
   "outputs": [
    {
     "data": {
      "text/plain": [
       "'2019-04-14'"
      ]
     },
     "execution_count": 61,
     "metadata": {},
     "output_type": "execute_result"
    }
   ],
   "source": [
    "result['source_time'][0]"
   ]
  },
  {
   "cell_type": "code",
   "execution_count": null,
   "metadata": {},
   "outputs": [],
   "source": [
    "whlie"
   ]
  },
  {
   "cell_type": "code",
   "execution_count": null,
   "metadata": {},
   "outputs": [],
   "source": [
    "\n",
    "\n",
    "url = \"https://www.google.com.tw/search?q=%22%E9%9B%B2%E6%9E%97%E7%A7%91%E6%8A%80%E5%A4%A7%E5%AD%B8%22OR%22%E9%9B%B2%E7%A7%91%E5%A4%A7%22OR%22%E5%9C%8B%E7%AB%8B%E9%9B%B2%E6%9E%97%E7%A7%91%E6%8A%80%E5%A4%A7%E5%AD%B8%22&tbs=sbd:1,qdr:w&tbm=nws&filter=0&start=\"+str(start)\n",
    "r = requests.get(url)"
   ]
  },
  {
   "cell_type": "code",
   "execution_count": null,
   "metadata": {},
   "outputs": [],
   "source": [
    "soup = bs(r.text,\"html.parser\")"
   ]
  },
  {
   "cell_type": "markdown",
   "metadata": {},
   "source": [
    "## 拿title"
   ]
  },
  {
   "cell_type": "code",
   "execution_count": null,
   "metadata": {},
   "outputs": [],
   "source": [
    "title_raw= soup.select(\"h3 a\")"
   ]
  },
  {
   "cell_type": "code",
   "execution_count": null,
   "metadata": {},
   "outputs": [],
   "source": [
    "for t in title_raw:\n",
    "    title_url.append(re.sub(\"&sa=U.*\",\"\",re.sub(\".*q=\",\"\",t[\"href\"])))"
   ]
  },
  {
   "cell_type": "code",
   "execution_count": null,
   "metadata": {},
   "outputs": [],
   "source": [
    "for t in title_raw:\n",
    "    title_text.append(t.text)"
   ]
  },
  {
   "cell_type": "code",
   "execution_count": null,
   "metadata": {},
   "outputs": [],
   "source": [
    "if len(title_text)==0:\n",
    "    break"
   ]
  },
  {
   "cell_type": "markdown",
   "metadata": {},
   "source": [
    "## 拿簡單內文"
   ]
  },
  {
   "cell_type": "code",
   "execution_count": null,
   "metadata": {},
   "outputs": [],
   "source": [
    "text_raw = soup.select(\".st\")\n",
    "for t in text_raw:\n",
    "    text_text.append(re.sub(\"\\xa0\",\"\",t.text))"
   ]
  },
  {
   "cell_type": "markdown",
   "metadata": {},
   "source": [
    "## 拿來源"
   ]
  },
  {
   "cell_type": "code",
   "execution_count": null,
   "metadata": {},
   "outputs": [],
   "source": [
    "source = soup.select(\".f\")\n",
    "source_text=list()"
   ]
  },
  {
   "cell_type": "code",
   "execution_count": null,
   "metadata": {},
   "outputs": [],
   "source": [
    "soup.select(\".f\")[0].text"
   ]
  },
  {
   "cell_type": "code",
   "execution_count": null,
   "metadata": {},
   "outputs": [],
   "source": [
    "for t in source:\n",
    "    if(len(t.text))>0:\n",
    "        if (\" - \" in t.text):\n",
    "            source_text.append(t.text)"
   ]
  },
  {
   "cell_type": "code",
   "execution_count": null,
   "metadata": {
    "scrolled": true
   },
   "outputs": [],
   "source": [
    "source_from = list()\n",
    "source_time = list()\n",
    "for t in source_text:\n",
    "    temp = t.split(\" - \")\n",
    "    source_from.append(temp[0])\n",
    "    source_time.append(temp[1])"
   ]
  },
  {
   "cell_type": "markdown",
   "metadata": {},
   "source": [
    "# 轉換日期格式"
   ]
  },
  {
   "cell_type": "code",
   "execution_count": null,
   "metadata": {},
   "outputs": [],
   "source": [
    "import datetime\n",
    "today_date = datetime.datetime.today()\n",
    "stop_time  = today_date - datetime.timedelta(days = 6)"
   ]
  },
  {
   "cell_type": "code",
   "execution_count": null,
   "metadata": {},
   "outputs": [],
   "source": [
    "for i in range(len(source_time)):\n",
    "    if \"分鐘\" in source_time[i]:\n",
    "        source_time[i]=datetime.datetime.today()-datetime.timedelta(minutes=int(re.sub(\" 分鐘前\",\"\",source_time[i])))\n",
    "    elif \"小時\" in source_time[i]:\n",
    "        source_time[i]=datetime.datetime.today()-datetime.timedelta(hours=int(re.sub(\" 小時前\",\"\",source_time[i])))\n",
    "    elif \"天\" in source_time[i]:\n",
    "        source_time[i]=datetime.datetime.today()-datetime.timedelta(days=int(re.sub(\" 天前\",\"\",source_time[i])))\n",
    "    elif \"年\" in source_time[i]:\n",
    "        source_time[i]=datetime.datetime.strptime(source_time[i],\"%Y年%m月%d日\")\n"
   ]
  },
  {
   "cell_type": "code",
   "execution_count": null,
   "metadata": {},
   "outputs": [],
   "source": [
    "for i in range(len(source_time)):\n",
    "    source_time[i]=source_time[i].strftime(\"%Y-%m-%d\")\n",
    "\n"
   ]
  },
  {
   "cell_type": "markdown",
   "metadata": {},
   "source": [
    "# update data"
   ]
  },
  {
   "cell_type": "code",
   "execution_count": null,
   "metadata": {},
   "outputs": [],
   "source": [
    "\n",
    "for i in range(len(title_text)):\n",
    "    worksheet.append_row((source_time[i],title_text[i],text_text[i],source_from[i],title_url[i],today_date_text))\n",
    "    print('新增一列資料到試算表-',GSpreadSheet)"
   ]
  },
  {
   "cell_type": "code",
   "execution_count": null,
   "metadata": {},
   "outputs": [],
   "source": []
  }
 ],
 "metadata": {
  "kernelspec": {
   "display_name": "Python 3",
   "language": "python",
   "name": "python3"
  },
  "language_info": {
   "codemirror_mode": {
    "name": "ipython",
    "version": 3
   },
   "file_extension": ".py",
   "mimetype": "text/x-python",
   "name": "python",
   "nbconvert_exporter": "python",
   "pygments_lexer": "ipython3",
   "version": "3.6.2"
  }
 },
 "nbformat": 4,
 "nbformat_minor": 2
}
