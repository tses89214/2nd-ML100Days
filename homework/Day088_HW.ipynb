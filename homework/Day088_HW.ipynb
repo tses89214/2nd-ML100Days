{
 "cells": [
  {
   "cell_type": "markdown",
   "metadata": {},
   "source": [
    "## Work\n",
    "1. 請嘗試寫一個 callback 用來記錄各類別在訓練過程中，對驗證集的 True Positive 與 True Negative"
   ]
  },
  {
   "cell_type": "code",
   "execution_count": 1,
   "metadata": {},
   "outputs": [
    {
     "name": "stderr",
     "output_type": "stream",
     "text": [
      "Using TensorFlow backend.\n"
     ]
    }
   ],
   "source": [
    "import os\n",
    "import keras\n",
    "\n",
    "# Disable GPU\n",
    "os.environ[\"CUDA_VISIBLE_DEVICES\"] = \"0\""
   ]
  },
  {
   "cell_type": "code",
   "execution_count": 2,
   "metadata": {},
   "outputs": [],
   "source": [
    "train, test = keras.datasets.cifar10.load_data()"
   ]
  },
  {
   "cell_type": "code",
   "execution_count": 3,
   "metadata": {},
   "outputs": [],
   "source": [
    "## 資料前處理\n",
    "def preproc_x(x, flatten=True):\n",
    "    x = x / 255.\n",
    "    if flatten:\n",
    "        x = x.reshape((len(x), -1))\n",
    "    return x\n",
    "\n",
    "def preproc_y(y, num_classes=10):\n",
    "    if y.shape[-1] == 1:\n",
    "        y = keras.utils.to_categorical(y, num_classes)\n",
    "    return y    "
   ]
  },
  {
   "cell_type": "code",
   "execution_count": 4,
   "metadata": {},
   "outputs": [],
   "source": [
    "x_train, y_train = train\n",
    "x_test, y_test = test\n",
    "\n",
    "# Preproc the inputs\n",
    "x_train = preproc_x(x_train)\n",
    "x_test = preproc_x(x_test)\n",
    "\n",
    "# Preprc the outputs\n",
    "y_train = preproc_y(y_train)\n",
    "y_test = preproc_y(y_test)"
   ]
  },
  {
   "cell_type": "code",
   "execution_count": 5,
   "metadata": {},
   "outputs": [],
   "source": [
    "from keras.layers import BatchNormalization\n",
    "\n",
    "\"\"\"\n",
    "建立神經網路，並加入 BN layer\n",
    "\"\"\"\n",
    "def build_mlp(input_shape, output_units=10, num_neurons=[512, 256, 128]):\n",
    "    input_layer = keras.layers.Input(input_shape)\n",
    "    \n",
    "    for i, n_units in enumerate(num_neurons):\n",
    "        if i == 0:\n",
    "            x = keras.layers.Dense(units=n_units, \n",
    "                                   activation=\"relu\", \n",
    "                                   name=\"hidden_layer\"+str(i+1))(input_layer)\n",
    "            x = BatchNormalization()(x)\n",
    "        else:\n",
    "            x = keras.layers.Dense(units=n_units, \n",
    "                                   activation=\"relu\", \n",
    "                                   name=\"hidden_layer\"+str(i+1))(x)\n",
    "            x = BatchNormalization()(x)\n",
    "    \n",
    "    out = keras.layers.Dense(units=output_units, activation=\"softmax\", name=\"output\")(x)\n",
    "    \n",
    "    model = keras.models.Model(inputs=[input_layer], outputs=[out])\n",
    "    return model"
   ]
  },
  {
   "cell_type": "code",
   "execution_count": 6,
   "metadata": {},
   "outputs": [],
   "source": [
    "## 超參數設定\n",
    "LEARNING_RATE = 1e-3\n",
    "EPOCHS = 25\n",
    "BATCH_SIZE = 1024\n",
    "MOMENTUM = 0.95"
   ]
  },
  {
   "cell_type": "code",
   "execution_count": 9,
   "metadata": {},
   "outputs": [],
   "source": [
    "# 載入 Callbacks\n",
    "from keras.callbacks import Callback\n",
    "\n",
    "# Record_fp_tp\n",
    "class Record_tp_tn(Callback):\n",
    "    \"\"\"Code Here\n",
    "    撰寫一個紀錄 ture positive 與 true negative 數量的 callbacks    \n",
    "    \"\"\"\n",
    "    def on_train_start(self,epochs,log={}):\n",
    "        log = log or {}\n",
    "        record_items = ['val_tp','val_tn']\n",
    "        if i not in self.params['metrics']:\n",
    "            self.params['metrics'].append(i)\n",
    "            \n",
    "    def on_epoch_end(self, epoch, logs = {}, thres=0.5):\n",
    "        logs = logs or {}\n",
    "        y_true = self.validation_data[1].argmax(axis = 1)\n",
    "        y_pred = self.model.predict(self.validation_data[0])\n",
    "        y_pred = (y_pred[:, 1] >= thres) * 1\n",
    "        y_tp = sum(y_true*y_pred)\n",
    "        y_tn = (sum(y_true==0)*(y_pred==0))\n",
    "        logs['y_tp'] = y_tp\n",
    "        logs['y_tn'] = y_tn\n",
    "        \n",
    "        \n",
    "rec_tptn = Record_tp_tn()"
   ]
  },
  {
   "cell_type": "code",
   "execution_count": null,
   "metadata": {},
   "outputs": [],
   "source": [
    "model = build_mlp(input_shape=x_train.shape[1:])\n",
    "model.summary()\n",
    "optimizer = keras.optimizers.SGD(lr=LEARNING_RATE, nesterov=True, momentum=MOMENTUM)\n",
    "model.compile(loss=\"categorical_crossentropy\", metrics=[\"accuracy\"], optimizer=optimizer)\n",
    "\n",
    "model.fit(x_train,y_train,\n",
    "         epochs = 50,\n",
    "         batch_size = 256,\n",
    "         callbacks=[rec_tptn],\n",
    "         validation_data = (x_test,y_test))\n",
    "\"\"\"Code Here\n",
    "將 callbacks 放入模型訓練流程中\n",
    "\"\"\"\n",
    "#model.fit()\n",
    "\n",
    "# Collect results\n",
    "train_loss = model.history.history[\"loss\"]\n",
    "valid_loss = model.history.history[\"val_loss\"]\n",
    "train_acc = model.history.history[\"acc\"]\n",
    "valid_acc = model.history.history[\"val_acc\"]\n",
    "\n",
    "\"\"\"Code Here\n",
    "將 tp/tn 從訓練完的模型中取出\n",
    "\"\"\""
   ]
  },
  {
   "cell_type": "code",
   "execution_count": 10,
   "metadata": {
    "scrolled": true
   },
   "outputs": [
    {
     "name": "stdout",
     "output_type": "stream",
     "text": [
      "_________________________________________________________________\n",
      "Layer (type)                 Output Shape              Param #   \n",
      "=================================================================\n",
      "input_2 (InputLayer)         (None, 3072)              0         \n",
      "_________________________________________________________________\n",
      "hidden_layer1 (Dense)        (None, 512)               1573376   \n",
      "_________________________________________________________________\n",
      "batch_normalization_4 (Batch (None, 512)               2048      \n",
      "_________________________________________________________________\n",
      "hidden_layer2 (Dense)        (None, 256)               131328    \n",
      "_________________________________________________________________\n",
      "batch_normalization_5 (Batch (None, 256)               1024      \n",
      "_________________________________________________________________\n",
      "hidden_layer3 (Dense)        (None, 128)               32896     \n",
      "_________________________________________________________________\n",
      "batch_normalization_6 (Batch (None, 128)               512       \n",
      "_________________________________________________________________\n",
      "output (Dense)               (None, 10)                1290      \n",
      "=================================================================\n",
      "Total params: 1,742,474\n",
      "Trainable params: 1,740,682\n",
      "Non-trainable params: 1,792\n",
      "_________________________________________________________________\n",
      "Train on 50000 samples, validate on 10000 samples\n",
      "Epoch 1/50\n",
      "50000/50000 [==============================] - 5s 91us/step - loss: 1.8441 - acc: 0.3659 - val_loss: 1.7126 - val_acc: 0.3970\n",
      "Epoch 2/50\n",
      "50000/50000 [==============================] - 4s 74us/step - loss: 1.5297 - acc: 0.4623 - val_loss: 1.5941 - val_acc: 0.4431\n",
      "Epoch 3/50\n",
      "50000/50000 [==============================] - 4s 73us/step - loss: 1.4307 - acc: 0.4978 - val_loss: 1.5438 - val_acc: 0.4484\n",
      "Epoch 4/50\n",
      "50000/50000 [==============================] - 4s 75us/step - loss: 1.3587 - acc: 0.5242 - val_loss: 1.5527 - val_acc: 0.4578\n",
      "Epoch 5/50\n",
      "50000/50000 [==============================] - 4s 74us/step - loss: 1.2999 - acc: 0.5434 - val_loss: 1.4844 - val_acc: 0.4794\n",
      "Epoch 6/50\n",
      "50000/50000 [==============================] - 4s 74us/step - loss: 1.2493 - acc: 0.5623 - val_loss: 1.5028 - val_acc: 0.4762\n",
      "Epoch 7/50\n",
      "50000/50000 [==============================] - 4s 71us/step - loss: 1.2002 - acc: 0.5812 - val_loss: 1.4807 - val_acc: 0.4804\n",
      "Epoch 8/50\n",
      "50000/50000 [==============================] - 4s 72us/step - loss: 1.1612 - acc: 0.5927 - val_loss: 1.5079 - val_acc: 0.4699\n",
      "Epoch 9/50\n",
      "50000/50000 [==============================] - 4s 72us/step - loss: 1.1196 - acc: 0.6091 - val_loss: 1.5629 - val_acc: 0.4618\n",
      "Epoch 10/50\n",
      "50000/50000 [==============================] - 4s 73us/step - loss: 1.0791 - acc: 0.6246 - val_loss: 1.5938 - val_acc: 0.4542\n",
      "Epoch 11/50\n",
      "50000/50000 [==============================] - 4s 73us/step - loss: 1.0406 - acc: 0.6373 - val_loss: 1.4816 - val_acc: 0.4887\n",
      "Epoch 12/50\n",
      "50000/50000 [==============================] - 4s 72us/step - loss: 1.0028 - acc: 0.6521 - val_loss: 1.5005 - val_acc: 0.4865\n",
      "Epoch 13/50\n",
      "50000/50000 [==============================] - 4s 72us/step - loss: 0.9639 - acc: 0.6679 - val_loss: 1.5276 - val_acc: 0.4846\n",
      "Epoch 14/50\n",
      "50000/50000 [==============================] - 4s 74us/step - loss: 0.9310 - acc: 0.6772 - val_loss: 1.5216 - val_acc: 0.4818\n",
      "Epoch 15/50\n",
      "50000/50000 [==============================] - 4s 73us/step - loss: 0.9001 - acc: 0.6894 - val_loss: 1.5757 - val_acc: 0.4764\n",
      "Epoch 16/50\n",
      "50000/50000 [==============================] - 4s 75us/step - loss: 0.8639 - acc: 0.7019 - val_loss: 1.5569 - val_acc: 0.4881\n",
      "Epoch 17/50\n",
      "50000/50000 [==============================] - 4s 78us/step - loss: 0.8366 - acc: 0.7125 - val_loss: 1.6004 - val_acc: 0.4721\n",
      "Epoch 18/50\n",
      "50000/50000 [==============================] - 4s 74us/step - loss: 0.8026 - acc: 0.7254 - val_loss: 1.8102 - val_acc: 0.4411\n",
      "Epoch 19/50\n",
      "50000/50000 [==============================] - 4s 74us/step - loss: 0.7694 - acc: 0.7381 - val_loss: 1.6849 - val_acc: 0.4643\n",
      "Epoch 20/50\n",
      "50000/50000 [==============================] - 4s 76us/step - loss: 0.7416 - acc: 0.7473 - val_loss: 1.6479 - val_acc: 0.4636\n",
      "Epoch 21/50\n",
      "50000/50000 [==============================] - 4s 73us/step - loss: 0.7119 - acc: 0.7603 - val_loss: 1.7044 - val_acc: 0.4695\n",
      "Epoch 22/50\n",
      "50000/50000 [==============================] - 4s 74us/step - loss: 0.6817 - acc: 0.7681 - val_loss: 1.7468 - val_acc: 0.4634\n",
      "Epoch 23/50\n",
      "50000/50000 [==============================] - 4s 75us/step - loss: 0.6548 - acc: 0.7780 - val_loss: 1.6989 - val_acc: 0.4751\n",
      "Epoch 24/50\n",
      "50000/50000 [==============================] - 4s 85us/step - loss: 0.6293 - acc: 0.7908 - val_loss: 1.7799 - val_acc: 0.4643\n",
      "Epoch 25/50\n",
      "50000/50000 [==============================] - 4s 90us/step - loss: 0.5992 - acc: 0.8015 - val_loss: 1.9027 - val_acc: 0.4612\n",
      "Epoch 26/50\n",
      "50000/50000 [==============================] - 4s 76us/step - loss: 0.5695 - acc: 0.8105 - val_loss: 1.7827 - val_acc: 0.4773\n",
      "Epoch 27/50\n",
      "50000/50000 [==============================] - 4s 70us/step - loss: 0.5424 - acc: 0.8221 - val_loss: 1.8916 - val_acc: 0.4618\n",
      "Epoch 28/50\n",
      "50000/50000 [==============================] - 3s 70us/step - loss: 0.5191 - acc: 0.8304 - val_loss: 1.8097 - val_acc: 0.4762\n",
      "Epoch 29/50\n",
      "50000/50000 [==============================] - 4s 71us/step - loss: 0.4974 - acc: 0.8366 - val_loss: 1.9701 - val_acc: 0.4482\n",
      "Epoch 30/50\n",
      "50000/50000 [==============================] - 4s 75us/step - loss: 0.4780 - acc: 0.8446 - val_loss: 1.9317 - val_acc: 0.4716\n",
      "Epoch 31/50\n",
      "50000/50000 [==============================] - 4s 74us/step - loss: 0.4534 - acc: 0.8525 - val_loss: 1.9482 - val_acc: 0.4652\n",
      "Epoch 32/50\n",
      "50000/50000 [==============================] - 4s 77us/step - loss: 0.4337 - acc: 0.8601 - val_loss: 1.9098 - val_acc: 0.4704\n",
      "Epoch 33/50\n",
      "50000/50000 [==============================] - 4s 71us/step - loss: 0.4120 - acc: 0.8696 - val_loss: 1.9829 - val_acc: 0.4709\n",
      "Epoch 34/50\n",
      "50000/50000 [==============================] - 3s 68us/step - loss: 0.3911 - acc: 0.8770 - val_loss: 1.9888 - val_acc: 0.4582\n",
      "Epoch 35/50\n",
      "50000/50000 [==============================] - 4s 70us/step - loss: 0.3666 - acc: 0.8849 - val_loss: 2.0550 - val_acc: 0.4587\n",
      "Epoch 36/50\n",
      "50000/50000 [==============================] - 3s 68us/step - loss: 0.3536 - acc: 0.8905 - val_loss: 2.1185 - val_acc: 0.4676\n",
      "Epoch 37/50\n",
      "50000/50000 [==============================] - 3s 67us/step - loss: 0.3368 - acc: 0.8968 - val_loss: 2.1406 - val_acc: 0.4534\n",
      "Epoch 38/50\n",
      "50000/50000 [==============================] - 3s 69us/step - loss: 0.3185 - acc: 0.9025 - val_loss: 2.0523 - val_acc: 0.4822\n",
      "Epoch 39/50\n",
      "50000/50000 [==============================] - 4s 80us/step - loss: 0.2964 - acc: 0.9102 - val_loss: 2.2475 - val_acc: 0.4606\n",
      "Epoch 40/50\n",
      "50000/50000 [==============================] - 4s 73us/step - loss: 0.2865 - acc: 0.9128 - val_loss: 2.1612 - val_acc: 0.4765\n",
      "Epoch 41/50\n",
      "50000/50000 [==============================] - 4s 73us/step - loss: 0.2731 - acc: 0.9186 - val_loss: 2.2372 - val_acc: 0.4628\n",
      "Epoch 42/50\n",
      "50000/50000 [==============================] - 4s 73us/step - loss: 0.2547 - acc: 0.9243 - val_loss: 2.1879 - val_acc: 0.4740\n",
      "Epoch 43/50\n",
      "50000/50000 [==============================] - 4s 76us/step - loss: 0.2433 - acc: 0.9284 - val_loss: 2.2909 - val_acc: 0.4693\n",
      "Epoch 44/50\n",
      "50000/50000 [==============================] - 5s 91us/step - loss: 0.2352 - acc: 0.9309 - val_loss: 2.3794 - val_acc: 0.4604\n",
      "Epoch 45/50\n",
      "50000/50000 [==============================] - 4s 78us/step - loss: 0.2248 - acc: 0.9338 - val_loss: 2.4058 - val_acc: 0.4616\n",
      "Epoch 46/50\n",
      "50000/50000 [==============================] - 4s 72us/step - loss: 0.2218 - acc: 0.9351 - val_loss: 2.4763 - val_acc: 0.4606\n",
      "Epoch 47/50\n",
      "50000/50000 [==============================] - 4s 75us/step - loss: 0.1997 - acc: 0.9432 - val_loss: 2.4544 - val_acc: 0.4607\n",
      "Epoch 48/50\n",
      "50000/50000 [==============================] - 4s 77us/step - loss: 0.1948 - acc: 0.9456 - val_loss: 2.5150 - val_acc: 0.4571\n",
      "Epoch 49/50\n",
      "50000/50000 [==============================] - 4s 74us/step - loss: 0.1763 - acc: 0.9522 - val_loss: 2.4749 - val_acc: 0.4639\n"
     ]
    },
    {
     "name": "stdout",
     "output_type": "stream",
     "text": [
      "Epoch 50/50\n",
      "50000/50000 [==============================] - 4s 74us/step - loss: 0.1668 - acc: 0.9551 - val_loss: 2.4440 - val_acc: 0.4761\n"
     ]
    },
    {
     "ename": "KeyError",
     "evalue": "'val_tp'",
     "output_type": "error",
     "traceback": [
      "\u001b[1;31m---------------------------------------------------------------------------\u001b[0m",
      "\u001b[1;31mKeyError\u001b[0m                                  Traceback (most recent call last)",
      "\u001b[1;32m<ipython-input-10-09c033d3da55>\u001b[0m in \u001b[0;36m<module>\u001b[1;34m\u001b[0m\n\u001b[0;32m     23\u001b[0m \u001b[0m將\u001b[0m \u001b[0mtp\u001b[0m\u001b[1;33m/\u001b[0m\u001b[0mtn\u001b[0m \u001b[0m從訓練完的模型中取出\u001b[0m\u001b[1;33m\u001b[0m\u001b[1;33m\u001b[0m\u001b[0m\n\u001b[0;32m     24\u001b[0m \"\"\"\n\u001b[1;32m---> 25\u001b[1;33m \u001b[0mvalid_tp\u001b[0m \u001b[1;33m=\u001b[0m \u001b[0mmodel\u001b[0m\u001b[1;33m.\u001b[0m\u001b[0mhistory\u001b[0m\u001b[1;33m.\u001b[0m\u001b[0mhistory\u001b[0m\u001b[1;33m[\u001b[0m\u001b[1;34m'val_tp'\u001b[0m\u001b[1;33m]\u001b[0m\u001b[1;33m\u001b[0m\u001b[1;33m\u001b[0m\u001b[0m\n\u001b[0m\u001b[0;32m     26\u001b[0m \u001b[0mvalid_tn\u001b[0m \u001b[1;33m=\u001b[0m \u001b[0mmodel\u001b[0m\u001b[1;33m.\u001b[0m\u001b[0mhistory\u001b[0m\u001b[1;33m.\u001b[0m\u001b[0mhistory\u001b[0m\u001b[1;33m[\u001b[0m\u001b[1;34m'val_tn'\u001b[0m\u001b[1;33m]\u001b[0m\u001b[1;33m\u001b[0m\u001b[1;33m\u001b[0m\u001b[0m\n",
      "\u001b[1;31mKeyError\u001b[0m: 'val_tp'"
     ]
    }
   ],
   "source": [
    "model = build_mlp(input_shape=x_train.shape[1:])\n",
    "model.summary()\n",
    "optimizer = keras.optimizers.SGD(lr=LEARNING_RATE, nesterov=True, momentum=MOMENTUM)\n",
    "model.compile(loss=\"categorical_crossentropy\", metrics=[\"accuracy\"], optimizer=optimizer)\n",
    "\n",
    "model.fit(x_train,y_train,\n",
    "         epochs = 50,\n",
    "         batch_size = 256,\n",
    "         callbacks=[rec_tptn],\n",
    "         validation_data = (x_test,y_test))\n",
    "\"\"\"Code Here\n",
    "將 callbacks 放入模型訓練流程中\n",
    "\"\"\"\n",
    "#model.fit()\n",
    "\n",
    "# Collect results\n",
    "train_loss = model.history.history[\"loss\"]\n",
    "valid_loss = model.history.history[\"val_loss\"]\n",
    "train_acc = model.history.history[\"acc\"]\n",
    "valid_acc = model.history.history[\"val_acc\"]\n",
    "\n",
    "\"\"\"Code Here\n",
    "將 tp/tn 從訓練完的模型中取出\n",
    "\"\"\"\n"
   ]
  },
  {
   "cell_type": "code",
   "execution_count": 11,
   "metadata": {},
   "outputs": [],
   "source": [
    "valid_tp = model.history.history['y_tp']\n",
    "valid_tn = model.history.history['y_tn']"
   ]
  },
  {
   "cell_type": "code",
   "execution_count": null,
   "metadata": {},
   "outputs": [
    {
     "data": {
      "image/png": "[encoded data removed]",
      "text/plain": [
       "<Figure size 432x288 with 1 Axes>"
      ]
     },
     "metadata": {
      "needs_background": "light"
     },
     "output_type": "display_data"
    },
    {
     "data": {
      "image/png": "[encoded data removed]",
      "text/plain": [
       "<Figure size 432x288 with 1 Axes>"
      ]
     },
     "metadata": {
      "needs_background": "light"
     },
     "output_type": "display_data"
    }
   ],
   "source": [
    "import matplotlib.pyplot as plt\n",
    "%matplotlib inline\n",
    "\n",
    "plt.plot(range(len(train_loss)), train_loss, label=\"train loss\")\n",
    "plt.plot(range(len(valid_loss)), valid_loss, label=\"valid loss\")\n",
    "plt.legend()\n",
    "plt.title(\"Loss\")\n",
    "plt.show()\n",
    "\n",
    "plt.plot(range(len(train_acc)), train_acc, label=\"train accuracy\")\n",
    "plt.plot(range(len(valid_acc)), valid_acc, label=\"valid accuracy\")\n",
    "plt.legend()\n",
    "plt.title(\"Accuracy\")\n",
    "plt.show()\n",
    "\n",
    "plt.plot(range(len(valid_tp)), valid_tp, label=\"valid tp\", color=\"navy\")\n",
    "plt.plot(range(len(valid_tn)), valid_tn, label=\"valid tn\", color=\"red\")\n",
    "plt.legend()\n",
    "plt.title(\"True positives and True Negatives\")\n",
    "plt.show()\n"
   ]
  },
  {
   "cell_type": "code",
   "execution_count": null,
   "metadata": {},
   "outputs": [],
   "source": []
  }
 ],
 "metadata": {
  "kernelspec": {
   "display_name": "Python 3",
   "language": "python",
   "name": "python3"
  },
  "language_info": {
   "codemirror_mode": {
    "name": "ipython",
    "version": 3
   },
   "file_extension": ".py",
   "mimetype": "text/x-python",
   "name": "python",
   "nbconvert_exporter": "python",
   "pygments_lexer": "ipython3",
   "version": "3.7.3"
  }
 },
 "nbformat": 4,
 "nbformat_minor": 2
}
